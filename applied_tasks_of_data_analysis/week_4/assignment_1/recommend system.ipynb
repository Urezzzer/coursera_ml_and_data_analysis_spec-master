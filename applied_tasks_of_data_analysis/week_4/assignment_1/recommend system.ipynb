{
 "cells": [
  {
   "cell_type": "code",
   "execution_count": 73,
   "outputs": [],
   "source": [
    "import numpy as np\n",
    "import pandas as pd\n",
    "import os"
   ],
   "metadata": {
    "collapsed": false,
    "pycharm": {
     "name": "#%%\n"
    }
   }
  },
  {
   "cell_type": "code",
   "execution_count": 74,
   "outputs": [
    {
     "data": {
      "text/plain": "                                        v         b\n0                             0,1,2,3,4,5       NaN\n1                    9,10,11,9,11,12,9,11       NaN\n2                       16,17,18,19,20,21       NaN\n3                          24,25,26,27,24       NaN\n4     34,35,36,34,37,35,36,37,38,39,38,39       NaN\n5                                      42       NaN\n6                                47,48,49       NaN\n7  59,60,61,62,60,63,64,65,66,61,67,68,67  67,60,63\n8                             71,72,73,74       NaN\n9                                76,77,78       NaN",
      "text/html": "<div>\n<style scoped>\n    .dataframe tbody tr th:only-of-type {\n        vertical-align: middle;\n    }\n\n    .dataframe tbody tr th {\n        vertical-align: top;\n    }\n\n    .dataframe thead th {\n        text-align: right;\n    }\n</style>\n<table border=\"1\" class=\"dataframe\">\n  <thead>\n    <tr style=\"text-align: right;\">\n      <th></th>\n      <th>v</th>\n      <th>b</th>\n    </tr>\n  </thead>\n  <tbody>\n    <tr>\n      <th>0</th>\n      <td>0,1,2,3,4,5</td>\n      <td>NaN</td>\n    </tr>\n    <tr>\n      <th>1</th>\n      <td>9,10,11,9,11,12,9,11</td>\n      <td>NaN</td>\n    </tr>\n    <tr>\n      <th>2</th>\n      <td>16,17,18,19,20,21</td>\n      <td>NaN</td>\n    </tr>\n    <tr>\n      <th>3</th>\n      <td>24,25,26,27,24</td>\n      <td>NaN</td>\n    </tr>\n    <tr>\n      <th>4</th>\n      <td>34,35,36,34,37,35,36,37,38,39,38,39</td>\n      <td>NaN</td>\n    </tr>\n    <tr>\n      <th>5</th>\n      <td>42</td>\n      <td>NaN</td>\n    </tr>\n    <tr>\n      <th>6</th>\n      <td>47,48,49</td>\n      <td>NaN</td>\n    </tr>\n    <tr>\n      <th>7</th>\n      <td>59,60,61,62,60,63,64,65,66,61,67,68,67</td>\n      <td>67,60,63</td>\n    </tr>\n    <tr>\n      <th>8</th>\n      <td>71,72,73,74</td>\n      <td>NaN</td>\n    </tr>\n    <tr>\n      <th>9</th>\n      <td>76,77,78</td>\n      <td>NaN</td>\n    </tr>\n  </tbody>\n</table>\n</div>"
     },
     "execution_count": 74,
     "metadata": {},
     "output_type": "execute_result"
    }
   ],
   "source": [
    "testdf=pd.read_csv('coursera_sessions_test.txt',sep=';',header=None,names=['v','b'],dtype={'v': str, 'b': str})\n",
    "traindf=pd.read_csv('coursera_sessions_train.txt',sep=';',header=None,names=['v','b'],dtype={'v': str, 'b': str})\n",
    "traindf.head(10)"
   ],
   "metadata": {
    "collapsed": false,
    "pycharm": {
     "name": "#%%\n"
    }
   }
  },
  {
   "cell_type": "markdown",
   "source": [
    "Расчитаем частоты появляения id в обучающей выборке"
   ],
   "metadata": {
    "collapsed": false,
    "pycharm": {
     "name": "#%% md\n"
    }
   }
  },
  {
   "cell_type": "code",
   "execution_count": 75,
   "outputs": [],
   "source": [
    "# Функция считает количество появлений каждого ИД в наборе.\n",
    "# Под набором (sessions) понимаем список просмотренных или купленных товарах во всей выборке\n",
    "def get_num(sessions):\n",
    "    # Формируем список всех встречающихся ИД в наборе\n",
    "    l=list()\n",
    "    for session in sessions:\n",
    "        l += session.split(',')\n",
    "    l=list(map(int,l))\n",
    "    # Считаем сколько раз встретился каждый ИД в наборе\n",
    "    freq = np.bincount(l)\n",
    "    ii = np.nonzero(freq)[0]\n",
    "    # Возвращаем список - (ИД - количество раз сколько он встретился в списке)\n",
    "    return list(zip(ii,freq[ii]))"
   ],
   "metadata": {
    "collapsed": false,
    "pycharm": {
     "name": "#%%\n"
    }
   }
  },
  {
   "cell_type": "code",
   "execution_count": 77,
   "outputs": [],
   "source": [
    "# Формируем для каждого ИД количество его наблюдений в просмотре и покупке на обучении\n",
    "# Считаем количество в просмотрах\n",
    "rate_df=pd.DataFrame(get_num(list(traindf.v)),columns=['id','view_num'])\n",
    "rate_df=rate_df.set_index('id')\n",
    "# Считаем количество в покупках\n",
    "rate_df1=pd.DataFrame(get_num(list(traindf.b.dropna())),columns=['id','buy_num'])\n",
    "rate_df1=rate_df1.set_index('id')\n",
    "# Объединяем, считаем, что если товара не было в покупках, то он не покупался\n",
    "rate_df=rate_df.join(rate_df1)\n",
    "rate_df=rate_df.fillna(0)"
   ],
   "metadata": {
    "collapsed": false,
    "pycharm": {
     "name": "#%%\n"
    }
   }
  },
  {
   "cell_type": "code",
   "execution_count": 78,
   "outputs": [
    {
     "data": {
      "text/plain": "        view_num  buy_num\nid                       \n0              6      0.0\n1              6      0.0\n2              9      0.0\n3              7      0.0\n4             11      0.0\n...          ...      ...\n102802         2      0.0\n102803         1      0.0\n102804         1      0.0\n102805         1      0.0\n102806         1      0.0\n\n[77064 rows x 2 columns]",
      "text/html": "<div>\n<style scoped>\n    .dataframe tbody tr th:only-of-type {\n        vertical-align: middle;\n    }\n\n    .dataframe tbody tr th {\n        vertical-align: top;\n    }\n\n    .dataframe thead th {\n        text-align: right;\n    }\n</style>\n<table border=\"1\" class=\"dataframe\">\n  <thead>\n    <tr style=\"text-align: right;\">\n      <th></th>\n      <th>view_num</th>\n      <th>buy_num</th>\n    </tr>\n    <tr>\n      <th>id</th>\n      <th></th>\n      <th></th>\n    </tr>\n  </thead>\n  <tbody>\n    <tr>\n      <th>0</th>\n      <td>6</td>\n      <td>0.0</td>\n    </tr>\n    <tr>\n      <th>1</th>\n      <td>6</td>\n      <td>0.0</td>\n    </tr>\n    <tr>\n      <th>2</th>\n      <td>9</td>\n      <td>0.0</td>\n    </tr>\n    <tr>\n      <th>3</th>\n      <td>7</td>\n      <td>0.0</td>\n    </tr>\n    <tr>\n      <th>4</th>\n      <td>11</td>\n      <td>0.0</td>\n    </tr>\n    <tr>\n      <th>...</th>\n      <td>...</td>\n      <td>...</td>\n    </tr>\n    <tr>\n      <th>102802</th>\n      <td>2</td>\n      <td>0.0</td>\n    </tr>\n    <tr>\n      <th>102803</th>\n      <td>1</td>\n      <td>0.0</td>\n    </tr>\n    <tr>\n      <th>102804</th>\n      <td>1</td>\n      <td>0.0</td>\n    </tr>\n    <tr>\n      <th>102805</th>\n      <td>1</td>\n      <td>0.0</td>\n    </tr>\n    <tr>\n      <th>102806</th>\n      <td>1</td>\n      <td>0.0</td>\n    </tr>\n  </tbody>\n</table>\n<p>77064 rows × 2 columns</p>\n</div>"
     },
     "execution_count": 78,
     "metadata": {},
     "output_type": "execute_result"
    }
   ],
   "source": [
    "rate_df"
   ],
   "metadata": {
    "collapsed": false,
    "pycharm": {
     "name": "#%%\n"
    }
   }
  },
  {
   "cell_type": "code",
   "execution_count": 80,
   "outputs": [],
   "source": [
    "# Добавляем  ИД, которые есть в тесте, но нет в обучении\n",
    "# Получаем список ИД в тесте\n",
    "test_ids=list()\n",
    "for s in list(testdf.v):\n",
    "    test_ids+=s.split(',')\n",
    "test_ids=list(map(int,test_ids))\n",
    "# Определяем те, которых нет в обучении\n",
    "dif=set(test_ids).difference(list(rate_df.index))\n",
    "dif=list(dif)\n",
    "dfdif=pd.DataFrame(index=dif,columns=['view_num','buy_num'])\n",
    "dfdif.view_num=0\n",
    "dfdif.buy_num=0\n",
    "rate_df=rate_df.append(dfdif)\n"
   ],
   "metadata": {
    "collapsed": false,
    "pycharm": {
     "name": "#%%\n"
    }
   }
  },
  {
   "cell_type": "code",
   "execution_count": 81,
   "outputs": [],
   "source": [
    "# Считаем для каждого ИД его ранк относительно просмотренных и купленных товаров\n",
    "rate_df['view_rank']=rate_df.view_num.rank(ascending=False)\n",
    "rate_df['buy_rank']=rate_df.buy_num.rank(ascending=False)"
   ],
   "metadata": {
    "collapsed": false,
    "pycharm": {
     "name": "#%%\n"
    }
   }
  },
  {
   "cell_type": "code",
   "execution_count": 82,
   "outputs": [
    {
     "data": {
      "text/plain": "   view_num  buy_num  view_rank  buy_rank\n0         6      0.0    14211.5   53509.5\n1         6      0.0    14211.5   53509.5\n2         9      0.0     8828.0   53509.5\n3         7      0.0    11933.5   53509.5\n4        11      0.0     6734.0   53509.5",
      "text/html": "<div>\n<style scoped>\n    .dataframe tbody tr th:only-of-type {\n        vertical-align: middle;\n    }\n\n    .dataframe tbody tr th {\n        vertical-align: top;\n    }\n\n    .dataframe thead th {\n        text-align: right;\n    }\n</style>\n<table border=\"1\" class=\"dataframe\">\n  <thead>\n    <tr style=\"text-align: right;\">\n      <th></th>\n      <th>view_num</th>\n      <th>buy_num</th>\n      <th>view_rank</th>\n      <th>buy_rank</th>\n    </tr>\n  </thead>\n  <tbody>\n    <tr>\n      <th>0</th>\n      <td>6</td>\n      <td>0.0</td>\n      <td>14211.5</td>\n      <td>53509.5</td>\n    </tr>\n    <tr>\n      <th>1</th>\n      <td>6</td>\n      <td>0.0</td>\n      <td>14211.5</td>\n      <td>53509.5</td>\n    </tr>\n    <tr>\n      <th>2</th>\n      <td>9</td>\n      <td>0.0</td>\n      <td>8828.0</td>\n      <td>53509.5</td>\n    </tr>\n    <tr>\n      <th>3</th>\n      <td>7</td>\n      <td>0.0</td>\n      <td>11933.5</td>\n      <td>53509.5</td>\n    </tr>\n    <tr>\n      <th>4</th>\n      <td>11</td>\n      <td>0.0</td>\n      <td>6734.0</td>\n      <td>53509.5</td>\n    </tr>\n  </tbody>\n</table>\n</div>"
     },
     "execution_count": 82,
     "metadata": {},
     "output_type": "execute_result"
    }
   ],
   "source": [
    "rate_df.head()"
   ],
   "metadata": {
    "collapsed": false,
    "pycharm": {
     "name": "#%%\n"
    }
   }
  },
  {
   "cell_type": "markdown",
   "source": [
    "Реализуйте два алгоритма рекомендаций:\n",
    "\n",
    "* сортировка просмотренных id по популярности (частота появления в просмотренных),\n",
    "* сортировка просмотренных id по покупаемости (частота появления в покупках)."
   ],
   "metadata": {
    "collapsed": false,
    "pycharm": {
     "name": "#%% md\n"
    }
   }
  },
  {
   "cell_type": "code",
   "execution_count": 84,
   "outputs": [],
   "source": [
    "# Функция получает на вход ИД view_ids и возвращает k из них, в соотвествии с алгоритмом рекомендации alg\n",
    "# view_ids - просмотренные товары\n",
    "# k - количество рекомендаций для возврата\n",
    "# alg - алгорим построения рекомендаций (view_rank - по популярности, buy_rank - по покупаемости)\n",
    "def get_recom_id(view_ids,k,alg):\n",
    "    # список уникальных ИД\n",
    "    view=set(view_ids)\n",
    "    # минимум из К и количеством товаров\n",
    "    first=min(k,len(view_ids))\n",
    "    # возвращаем топ лучших ИД\n",
    "    return list(rate_df.loc[view,alg].sort_values(kind='mergesort')[0:first].index)"
   ],
   "metadata": {
    "collapsed": false,
    "pycharm": {
     "name": "#%%\n"
    }
   }
  },
  {
   "cell_type": "code",
   "execution_count": 85,
   "outputs": [],
   "source": [
    "# Функция расчитывает для сессии [view,buy] метрики precision(k), recall(k) исходя из алгоритма рекомендаций alg\n",
    "def metric(view,buy,k,alg):\n",
    "    view_ids=view.split(',')\n",
    "    view_ids=list(map(int,view_ids))\n",
    "    buy_ids=buy.split(',')\n",
    "    buy_ids=list(map(int,buy_ids))\n",
    "    # получаем список рекомендаций для сессии\n",
    "    recom=get_recom_id(view_ids,k,alg)\n",
    "    # Считаем количество покупок из рекомендованных\n",
    "    purchases=0\n",
    "    for id_ in buy_ids:\n",
    "        if id_ in recom:\n",
    "            purchases+=1\n",
    "    #print (\"buy=%s, recom=%s, purchases=%s\"%(buy_ids,recom,purchases))\n",
    "    # Precision = Количество покупок из рекомендованных / k\n",
    "    precision=purchases/k\n",
    "    # Recall = Количество покупок из рекомендованных / Количество покупок\n",
    "    recall=purchases/len(buy_ids)\n",
    "    return precision,recall"
   ],
   "metadata": {
    "collapsed": false,
    "pycharm": {
     "name": "#%%\n"
    }
   }
  },
  {
   "cell_type": "code",
   "execution_count": 86,
   "outputs": [],
   "source": [
    "# Функция считает метрики precision(k), recall(k) для сессий в DF\n",
    "def calc_metrics(df):\n",
    "    for session in df[df.b.notnull()].iterrows():\n",
    "        id_=session[0]\n",
    "        view=session[1]['v']\n",
    "        buy=session[1]['b']\n",
    "        for k in [1,5]:\n",
    "            for alg in ['view_rank','buy_rank']:\n",
    "                p,r=metric(view,buy,k,alg)\n",
    "                df.loc[id_,'p'+str(k)+alg]=p\n",
    "                df.loc[id_,'r'+str(k)+alg]=r"
   ],
   "metadata": {
    "collapsed": false,
    "pycharm": {
     "name": "#%%\n"
    }
   }
  },
  {
   "cell_type": "code",
   "execution_count": 87,
   "outputs": [],
   "source": [
    "calc_metrics(traindf)\n",
    "calc_metrics(testdf)"
   ],
   "metadata": {
    "collapsed": false,
    "pycharm": {
     "name": "#%%\n"
    }
   }
  },
  {
   "cell_type": "code",
   "execution_count": 88,
   "outputs": [],
   "source": [
    "def get_avg_metrics(df):\n",
    "    res=pd.DataFrame(columns=['view_rank','buy_rank'])\n",
    "    for k in [1,5]:\n",
    "        for metric in ['r','p']:\n",
    "            for alg in ['view_rank','buy_rank']:\n",
    "                res.loc[metric+str(k),alg]=round(df[metric+str(k)+alg].mean(skipna=True),2)\n",
    "    return res"
   ],
   "metadata": {
    "collapsed": false,
    "pycharm": {
     "name": "#%%\n"
    }
   }
  },
  {
   "cell_type": "code",
   "execution_count": 89,
   "outputs": [
    {
     "data": {
      "text/plain": "   view_rank buy_rank\nr1      0.44     0.68\np1      0.51     0.79\nr5      0.82     0.93\np5      0.21     0.25",
      "text/html": "<div>\n<style scoped>\n    .dataframe tbody tr th:only-of-type {\n        vertical-align: middle;\n    }\n\n    .dataframe tbody tr th {\n        vertical-align: top;\n    }\n\n    .dataframe thead th {\n        text-align: right;\n    }\n</style>\n<table border=\"1\" class=\"dataframe\">\n  <thead>\n    <tr style=\"text-align: right;\">\n      <th></th>\n      <th>view_rank</th>\n      <th>buy_rank</th>\n    </tr>\n  </thead>\n  <tbody>\n    <tr>\n      <th>r1</th>\n      <td>0.44</td>\n      <td>0.68</td>\n    </tr>\n    <tr>\n      <th>p1</th>\n      <td>0.51</td>\n      <td>0.79</td>\n    </tr>\n    <tr>\n      <th>r5</th>\n      <td>0.82</td>\n      <td>0.93</td>\n    </tr>\n    <tr>\n      <th>p5</th>\n      <td>0.21</td>\n      <td>0.25</td>\n    </tr>\n  </tbody>\n</table>\n</div>"
     },
     "execution_count": 89,
     "metadata": {},
     "output_type": "execute_result"
    }
   ],
   "source": [
    "t1=get_avg_metrics(traindf)\n",
    "t1"
   ],
   "metadata": {
    "collapsed": false,
    "pycharm": {
     "name": "#%%\n"
    }
   }
  },
  {
   "cell_type": "code",
   "execution_count": 91,
   "outputs": [
    {
     "data": {
      "text/plain": "   view_rank buy_rank\nr1      0.42     0.41\np1      0.48     0.47\nr5       0.8     0.79\np5       0.2      0.2",
      "text/html": "<div>\n<style scoped>\n    .dataframe tbody tr th:only-of-type {\n        vertical-align: middle;\n    }\n\n    .dataframe tbody tr th {\n        vertical-align: top;\n    }\n\n    .dataframe thead th {\n        text-align: right;\n    }\n</style>\n<table border=\"1\" class=\"dataframe\">\n  <thead>\n    <tr style=\"text-align: right;\">\n      <th></th>\n      <th>view_rank</th>\n      <th>buy_rank</th>\n    </tr>\n  </thead>\n  <tbody>\n    <tr>\n      <th>r1</th>\n      <td>0.42</td>\n      <td>0.41</td>\n    </tr>\n    <tr>\n      <th>p1</th>\n      <td>0.48</td>\n      <td>0.47</td>\n    </tr>\n    <tr>\n      <th>r5</th>\n      <td>0.8</td>\n      <td>0.79</td>\n    </tr>\n    <tr>\n      <th>p5</th>\n      <td>0.2</td>\n      <td>0.2</td>\n    </tr>\n  </tbody>\n</table>\n</div>"
     },
     "execution_count": 91,
     "metadata": {},
     "output_type": "execute_result"
    }
   ],
   "source": [
    "t2=get_avg_metrics(testdf)\n",
    "t2\n"
   ],
   "metadata": {
    "collapsed": false,
    "pycharm": {
     "name": "#%%\n"
    }
   }
  }
 ],
 "metadata": {
  "kernelspec": {
   "display_name": "Python 3",
   "language": "python",
   "name": "python3"
  },
  "language_info": {
   "codemirror_mode": {
    "name": "ipython",
    "version": 3
   },
   "file_extension": ".py",
   "mimetype": "text/x-python",
   "name": "python",
   "nbconvert_exporter": "python",
   "pygments_lexer": "ipython3",
   "version": "3.7.6"
  }
 },
 "nbformat": 4,
 "nbformat_minor": 1
}