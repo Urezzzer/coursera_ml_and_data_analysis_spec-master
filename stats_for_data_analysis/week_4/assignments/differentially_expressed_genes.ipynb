{
 "cells": [
  {
   "cell_type": "code",
   "execution_count": 127,
   "outputs": [],
   "source": [
    "import pandas as pd\n",
    "import numpy as np"
   ],
   "metadata": {
    "collapsed": false,
    "pycharm": {
     "name": "#%%\n"
    }
   }
  },
  {
   "cell_type": "code",
   "execution_count": 128,
   "outputs": [
    {
     "name": "stdout",
     "output_type": "stream",
     "text": [
      "Populating the interactive namespace from numpy and matplotlib\n"
     ]
    }
   ],
   "source": [
    "import statsmodels\n",
    "import scipy\n",
    "\n",
    "import matplotlib.pyplot as plt\n",
    "%pylab inline\n",
    "\n",
    "import warnings\n",
    "warnings.filterwarnings('ignore')\n",
    "\n",
    "from statsmodels.stats.weightstats import *"
   ],
   "metadata": {
    "collapsed": false,
    "pycharm": {
     "name": "#%%\n"
    }
   }
  },
  {
   "cell_type": "code",
   "execution_count": 129,
   "outputs": [],
   "source": [
    "from statsmodels.sandbox.stats.multicomp import multipletests"
   ],
   "metadata": {
    "collapsed": false,
    "pycharm": {
     "name": "#%%\n"
    }
   }
  },
  {
   "cell_type": "code",
   "execution_count": 130,
   "outputs": [],
   "source": [
    "def write_answer(task, n_diff):\n",
    "    with open(str(task)+\".txt\", \"w\") as fout:\n",
    "        fout.write(str(n_diff))"
   ],
   "metadata": {
    "collapsed": false,
    "pycharm": {
     "name": "#%%\n"
    }
   }
  },
  {
   "cell_type": "markdown",
   "source": [
    "Часть 1: применение t-критерия Стьюдента\n",
    "\n",
    "В первой части вам нужно будет применить критерий Стьюдента для проверки гипотезы о равенстве средних в двух независимых выборках. Применить критерий для каждого гена нужно будет дважды:\n",
    "\n",
    "для групп normal (control) и early neoplasia (treatment)\n",
    "\n",
    "для групп early neoplasia (control) и cancer (treatment)\n",
    "\n",
    "В качестве ответа в этой части задания необходимо указать количество статистически значимых отличий, которые вы нашли с помощью t-критерия Стьюдента, то есть число генов, у которых p-value этого теста оказался меньше, чем уровень значимости.\n",
    "\n"
   ],
   "metadata": {
    "collapsed": false,
    "pycharm": {
     "name": "#%% md\n"
    }
   }
  },
  {
   "cell_type": "code",
   "execution_count": 131,
   "outputs": [],
   "source": [
    "data = pd.read_csv('gene_high_throughput_sequencing.csv')"
   ],
   "metadata": {
    "collapsed": false,
    "pycharm": {
     "name": "#%%\n"
    }
   }
  },
  {
   "cell_type": "code",
   "source": [
    "data.drop('Patient_id', inplace=True, axis=1)"
   ],
   "metadata": {
    "collapsed": false,
    "pycharm": {
     "name": "#%%\n"
    }
   },
   "execution_count": 132,
   "outputs": []
  },
  {
   "cell_type": "code",
   "source": [
    "columns = data.columns.values"
   ],
   "metadata": {
    "collapsed": false,
    "pycharm": {
     "name": "#%%\n"
    }
   },
   "execution_count": 133,
   "outputs": []
  },
  {
   "cell_type": "code",
   "source": [
    "data.shape"
   ],
   "metadata": {
    "collapsed": false,
    "pycharm": {
     "name": "#%%\n"
    }
   },
   "execution_count": 134,
   "outputs": [
    {
     "data": {
      "text/plain": "(72, 15749)"
     },
     "execution_count": 134,
     "metadata": {},
     "output_type": "execute_result"
    }
   ]
  },
  {
   "cell_type": "code",
   "source": [
    "data.head()"
   ],
   "metadata": {
    "collapsed": false,
    "pycharm": {
     "name": "#%%\n"
    }
   },
   "execution_count": 135,
   "outputs": [
    {
     "data": {
      "text/plain": "  Diagnosis  LOC643837  LOC100130417     SAMD11      NOC2L     KLHL17  \\\n0    normal   1.257614      2.408148  13.368622   9.494779  20.880435   \n1    normal   4.567931     16.602734  42.477752  25.562376  23.221137   \n2    normal   2.077597      3.978294  12.863214  13.728915  14.543176   \n3    normal   2.066576      8.520713  14.466035   7.823932   8.520713   \n4    normal   2.613616      3.434965  12.682222  10.543189  26.688686   \n\n     PLEKHN1   C1orf170       HES4      ISG15  ...      CLIC2    RPS4Y1  \\\n0  12.722017   9.494779  54.349694  26.329928  ...   4.761250  1.257614   \n1  11.622386  14.330573  72.445474  39.140813  ...   6.871902  1.815112   \n2  14.141907   6.232790  57.011005  48.144685  ...   7.096343  2.077597   \n3   2.066576  10.870009  53.292034  27.076621  ...   5.200770  2.066576   \n4  12.484822   1.364917  67.140393  35.896701  ...  11.227770  1.364917   \n\n        ZFY      PRKY     USP9Y     DDX3Y       CD24  CYorf15B     KDM5D  \\\n0  1.257614  1.257614  1.257614  1.257614  23.268694  1.257614  1.257614   \n1  1.815112  1.815112  1.815112  1.815112  10.427023  1.815112  1.815112   \n2  2.077597  2.077597  2.077597  2.077597  22.344226  2.077597  2.077597   \n3  2.066576  2.066576  2.066576  2.066576  49.295538  2.066576  2.066576   \n4  1.364917  1.364917  1.364917  1.364917  23.627911  1.364917  1.364917   \n\n     EIF1AY  \n0  1.257614  \n1  1.815112  \n2  2.077597  \n3  2.066576  \n4  1.364917  \n\n[5 rows x 15749 columns]",
      "text/html": "<div>\n<style scoped>\n    .dataframe tbody tr th:only-of-type {\n        vertical-align: middle;\n    }\n\n    .dataframe tbody tr th {\n        vertical-align: top;\n    }\n\n    .dataframe thead th {\n        text-align: right;\n    }\n</style>\n<table border=\"1\" class=\"dataframe\">\n  <thead>\n    <tr style=\"text-align: right;\">\n      <th></th>\n      <th>Diagnosis</th>\n      <th>LOC643837</th>\n      <th>LOC100130417</th>\n      <th>SAMD11</th>\n      <th>NOC2L</th>\n      <th>KLHL17</th>\n      <th>PLEKHN1</th>\n      <th>C1orf170</th>\n      <th>HES4</th>\n      <th>ISG15</th>\n      <th>...</th>\n      <th>CLIC2</th>\n      <th>RPS4Y1</th>\n      <th>ZFY</th>\n      <th>PRKY</th>\n      <th>USP9Y</th>\n      <th>DDX3Y</th>\n      <th>CD24</th>\n      <th>CYorf15B</th>\n      <th>KDM5D</th>\n      <th>EIF1AY</th>\n    </tr>\n  </thead>\n  <tbody>\n    <tr>\n      <th>0</th>\n      <td>normal</td>\n      <td>1.257614</td>\n      <td>2.408148</td>\n      <td>13.368622</td>\n      <td>9.494779</td>\n      <td>20.880435</td>\n      <td>12.722017</td>\n      <td>9.494779</td>\n      <td>54.349694</td>\n      <td>26.329928</td>\n      <td>...</td>\n      <td>4.761250</td>\n      <td>1.257614</td>\n      <td>1.257614</td>\n      <td>1.257614</td>\n      <td>1.257614</td>\n      <td>1.257614</td>\n      <td>23.268694</td>\n      <td>1.257614</td>\n      <td>1.257614</td>\n      <td>1.257614</td>\n    </tr>\n    <tr>\n      <th>1</th>\n      <td>normal</td>\n      <td>4.567931</td>\n      <td>16.602734</td>\n      <td>42.477752</td>\n      <td>25.562376</td>\n      <td>23.221137</td>\n      <td>11.622386</td>\n      <td>14.330573</td>\n      <td>72.445474</td>\n      <td>39.140813</td>\n      <td>...</td>\n      <td>6.871902</td>\n      <td>1.815112</td>\n      <td>1.815112</td>\n      <td>1.815112</td>\n      <td>1.815112</td>\n      <td>1.815112</td>\n      <td>10.427023</td>\n      <td>1.815112</td>\n      <td>1.815112</td>\n      <td>1.815112</td>\n    </tr>\n    <tr>\n      <th>2</th>\n      <td>normal</td>\n      <td>2.077597</td>\n      <td>3.978294</td>\n      <td>12.863214</td>\n      <td>13.728915</td>\n      <td>14.543176</td>\n      <td>14.141907</td>\n      <td>6.232790</td>\n      <td>57.011005</td>\n      <td>48.144685</td>\n      <td>...</td>\n      <td>7.096343</td>\n      <td>2.077597</td>\n      <td>2.077597</td>\n      <td>2.077597</td>\n      <td>2.077597</td>\n      <td>2.077597</td>\n      <td>22.344226</td>\n      <td>2.077597</td>\n      <td>2.077597</td>\n      <td>2.077597</td>\n    </tr>\n    <tr>\n      <th>3</th>\n      <td>normal</td>\n      <td>2.066576</td>\n      <td>8.520713</td>\n      <td>14.466035</td>\n      <td>7.823932</td>\n      <td>8.520713</td>\n      <td>2.066576</td>\n      <td>10.870009</td>\n      <td>53.292034</td>\n      <td>27.076621</td>\n      <td>...</td>\n      <td>5.200770</td>\n      <td>2.066576</td>\n      <td>2.066576</td>\n      <td>2.066576</td>\n      <td>2.066576</td>\n      <td>2.066576</td>\n      <td>49.295538</td>\n      <td>2.066576</td>\n      <td>2.066576</td>\n      <td>2.066576</td>\n    </tr>\n    <tr>\n      <th>4</th>\n      <td>normal</td>\n      <td>2.613616</td>\n      <td>3.434965</td>\n      <td>12.682222</td>\n      <td>10.543189</td>\n      <td>26.688686</td>\n      <td>12.484822</td>\n      <td>1.364917</td>\n      <td>67.140393</td>\n      <td>35.896701</td>\n      <td>...</td>\n      <td>11.227770</td>\n      <td>1.364917</td>\n      <td>1.364917</td>\n      <td>1.364917</td>\n      <td>1.364917</td>\n      <td>1.364917</td>\n      <td>23.627911</td>\n      <td>1.364917</td>\n      <td>1.364917</td>\n      <td>1.364917</td>\n    </tr>\n  </tbody>\n</table>\n<p>5 rows × 15749 columns</p>\n</div>"
     },
     "execution_count": 135,
     "metadata": {},
     "output_type": "execute_result"
    }
   ]
  },
  {
   "cell_type": "markdown",
   "source": [
    "Проверка на нормальность"
   ],
   "metadata": {
    "collapsed": false,
    "pycharm": {
     "name": "#%% md\n"
    }
   }
  },
  {
   "cell_type": "code",
   "execution_count": 136,
   "outputs": [
    {
     "name": "stdout",
     "output_type": "stream",
     "text": [
      "Нормально распределено: 7587.000000 элементов\n"
     ]
    }
   ],
   "source": [
    "norm_prob = 0\n",
    "for column in columns[1:]:\n",
    "    if stats.shapiro(data[column]).pvalue > 0.05:\n",
    "        norm_prob+= 1\n",
    "print(\"Нормально распределено: %f элементов\" % norm_prob)"
   ],
   "metadata": {
    "collapsed": false,
    "pycharm": {
     "name": "#%%\n"
    }
   }
  },
  {
   "cell_type": "markdown",
   "source": [
    "Критерий Стьюдента для генов в разных группах пациентов"
   ],
   "metadata": {
    "collapsed": false,
    "pycharm": {
     "name": "#%% md\n"
    }
   }
  },
  {
   "cell_type": "code",
   "execution_count": 137,
   "outputs": [],
   "source": [
    "normal_data = data[data.Diagnosis=='normal']\n",
    "neoplasia_data = data[data.Diagnosis=='early neoplasia']\n",
    "cancer_data = data[data.Diagnosis=='cancer']"
   ],
   "metadata": {
    "collapsed": false,
    "pycharm": {
     "name": "#%%\n"
    }
   }
  },
  {
   "cell_type": "code",
   "execution_count": 138,
   "outputs": [
    {
     "name": "stdout",
     "output_type": "stream",
     "text": [
      "Средние не равны на 1575.000000 элементов\n"
     ]
    }
   ],
   "source": [
    "normal_neoplasia_pvalue = []\n",
    "for column in columns[1:]:\n",
    "        normal_neoplasia_pvalue.append(scipy.stats.ttest_ind(normal_data[column],neoplasia_data[column], equal_var=False)[1])\n",
    "print(\"Средние не равны на %f элементов\" % sum([1 if item < 0.05 else 0 for item in normal_neoplasia_pvalue]))"
   ],
   "metadata": {
    "collapsed": false,
    "pycharm": {
     "name": "#%%\n"
    }
   }
  },
  {
   "cell_type": "code",
   "source": [
    "cancer_neoplasia_pvalue = []\n",
    "for column in columns[1:]:\n",
    "    cancer_neoplasia_pvalue.append(scipy.stats.ttest_ind(cancer_data[column],neoplasia_data[column], equal_var=False)[1])\n",
    "print(\"Средние не равны на %f элементов\" % sum([1 if item < 0.05 else 0 for item in cancer_neoplasia_pvalue]))"
   ],
   "metadata": {
    "collapsed": false,
    "pycharm": {
     "name": "#%%\n"
    }
   },
   "execution_count": 139,
   "outputs": [
    {
     "name": "stdout",
     "output_type": "stream",
     "text": [
      "Средние не равны на 3490.000000 элементов\n"
     ]
    }
   ]
  },
  {
   "cell_type": "code",
   "execution_count": 140,
   "outputs": [],
   "source": [
    "write_answer('task1', sum([1 if item < 0.05 else 0 for item in normal_neoplasia_pvalue]))\n",
    "write_answer('task2', sum([1 if item < 0.05 else 0 for item in cancer_neoplasia_pvalue]))"
   ],
   "metadata": {
    "collapsed": false,
    "pycharm": {
     "name": "#%%\n"
    }
   }
  },
  {
   "cell_type": "markdown",
   "source": [
    "#### Практическая значимость изменения\n",
    "\n",
    "Цель исследований — найти гены, средняя экспрессия которых отличается не только статистически значимо, но и достаточно сильно. В экспрессионных исследованиях для этого часто используется метрика, которая называется fold change (кратность изменения). Определяется она следующим образом:\n",
    "\n",
    "$$F_c(C, T) = \\frac{T}C, T>C и \\frac{C}T, T<C$$\n",
    "\n",
    "\n",
    "где\n",
    "C,T — средние значения экспрессии гена в control и treatment группах соответственно. По сути, fold change показывает, во сколько раз отличаются средние двух выборок."
   ],
   "metadata": {
    "collapsed": false,
    "pycharm": {
     "name": "#%% md\n"
    }
   }
  },
  {
   "cell_type": "code",
   "execution_count": 141,
   "outputs": [],
   "source": [
    "normal_mean_genes = normal_data.mean()\n",
    "neoplasia_mean_genes = neoplasia_data.mean()\n",
    "cancer_mean_genes = cancer_data.mean()"
   ],
   "metadata": {
    "collapsed": false,
    "pycharm": {
     "name": "#%%\n"
    }
   }
  },
  {
   "cell_type": "markdown",
   "source": [
    "Часть 2: поправка методом Холма-Бонферрони"
   ],
   "metadata": {
    "collapsed": false,
    "pycharm": {
     "name": "#%% md\n"
    }
   }
  },
  {
   "cell_type": "code",
   "source": [
    "import statsmodels.stats.multitest as smm"
   ],
   "metadata": {
    "collapsed": false,
    "pycharm": {
     "name": "#%%\n"
    }
   },
   "execution_count": 142,
   "outputs": []
  },
  {
   "cell_type": "markdown",
   "source": [
    "В этой части задания нужно будет применить поправку Холма для получившихся двух наборов достигаемых уровней значимости из предыдущей части. Обратите внимание, что поскольку вы будете делать поправку для каждого из двух наборов p-value отдельно, то проблема, связанная с множественной проверкой останется.\n",
    "\n",
    "Для того, чтобы ее устранить, достаточно воспользоваться поправкой Бонферрони, то есть использовать уровень значимости 0.05 / 2 вместо 0.05 для дальнейшего уточнения значений p-value c помощью метода Холма.\n",
    "\n",
    "В качестве ответа к этому заданию требуется ввести количество значимых отличий в каждой группе после того, как произведена коррекция Холма-Бонферрони. Причем это число нужно ввести с учетом практической значимости: посчитайте для каждого значимого изменения fold change и выпишите в ответ число таких значимых изменений, абсолютное значение fold change которых больше, чем\n",
    "\n",
    "1.5."
   ],
   "metadata": {
    "collapsed": false,
    "pycharm": {
     "name": "#%% md\n"
    }
   }
  },
  {
   "cell_type": "markdown",
   "source": [
    "Обратите внимание, что\n",
    "\n",
    "* применять поправку на множественную проверку нужно ко всем значениям достигаемых уровней значимости, а не только для тех, которые меньше значения уровня доверия.\n",
    "\n",
    "* при использовании поправки на уровне значимости 0.025 меняются значения достигаемого уровня значимости, но не меняется значение уровня доверия (то есть для отбора значимых изменений скорректированные значения уровня значимости нужно сравнивать с порогом 0.025, а не 0.05)!"
   ],
   "metadata": {
    "collapsed": false,
    "pycharm": {
     "name": "#%% md\n"
    }
   }
  },
  {
   "cell_type": "code",
   "source": [
    "p_corrected_n_n = smm.multipletests(normal_neoplasia_pvalue,\n",
    "                                            alpha = 0.05/2,\n",
    "                                            method = 'holm')[1]"
   ],
   "metadata": {
    "collapsed": false,
    "pycharm": {
     "name": "#%%\n"
    }
   },
   "execution_count": 143,
   "outputs": []
  },
  {
   "cell_type": "code",
   "execution_count": 144,
   "outputs": [],
   "source": [
    "p_corrected_c_n = smm.multipletests(cancer_neoplasia_pvalue,\n",
    "                                            alpha = 0.05/2,\n",
    "                                            method = 'holm')[1]"
   ],
   "metadata": {
    "collapsed": false,
    "pycharm": {
     "name": "#%%\n"
    }
   }
  },
  {
   "cell_type": "markdown",
   "source": [
    "Практическая значимость изменения на статистически значимых изменениях"
   ],
   "metadata": {
    "collapsed": false,
    "pycharm": {
     "name": "#%% md\n"
    }
   }
  },
  {
   "cell_type": "code",
   "execution_count": 145,
   "outputs": [],
   "source": [
    "significant_changes = 0\n",
    "for i in range(len(p_corrected_n_n)):\n",
    "    if p_corrected_n_n[i] < 0.05/2:\n",
    "        if neoplasia_mean_genes[i] >= normal_mean_genes[i]:\n",
    "            fold_change = neoplasia_mean_genes[i]/normal_mean_genes[i]\n",
    "        else:\n",
    "            fold_change = -normal_mean_genes[i]/neoplasia_mean_genes[i]\n",
    "        if fold_change > 1.5:\n",
    "            significant_changes += 1"
   ],
   "metadata": {
    "collapsed": false,
    "pycharm": {
     "name": "#%%\n"
    }
   }
  },
  {
   "cell_type": "code",
   "execution_count": 146,
   "outputs": [],
   "source": [
    "write_answer('task3', significant_changes)"
   ],
   "metadata": {
    "collapsed": false,
    "pycharm": {
     "name": "#%%\n"
    }
   }
  },
  {
   "cell_type": "code",
   "execution_count": 147,
   "outputs": [],
   "source": [
    "significant_changes = 0\n",
    "for i in range(len(p_corrected_c_n)):\n",
    "    if p_corrected_c_n[i] < 0.05/2:\n",
    "        if cancer_mean_genes[i] >= neoplasia_mean_genes[i]:\n",
    "            fold_change = cancer_mean_genes[i]/neoplasia_mean_genes[i]\n",
    "        else:\n",
    "            fold_change = abs(-neoplasia_mean_genes[i]/cancer_mean_genes[i])\n",
    "        if fold_change > 1.5:\n",
    "            significant_changes += 1"
   ],
   "metadata": {
    "collapsed": false,
    "pycharm": {
     "name": "#%%\n"
    }
   }
  },
  {
   "cell_type": "code",
   "execution_count": 148,
   "outputs": [],
   "source": [
    "write_answer('task4', significant_changes)"
   ],
   "metadata": {
    "collapsed": false,
    "pycharm": {
     "name": "#%%\n"
    }
   }
  },
  {
   "cell_type": "markdown",
   "source": [
    "Часть 3: поправка методом Бенджамини-Хохберга\n",
    "\n",
    "Данная часть задания аналогична второй части за исключением того, что нужно будет использовать метод Бенджамини-Хохберга.\n",
    "\n",
    "Обратите внимание, что методы коррекции, которые контролируют FDR, допускает больше ошибок первого рода и имеют большую мощность, чем методы, контролирующие FWER. Большая мощность означает, что эти методы будут совершать меньше ошибок второго рода (то есть будут лучше улавливать отклонения от\n",
    "\n",
    "H\n",
    "0\n",
    "​\t , когда они есть, и будут чаще отклонять\n",
    "\n",
    "H\n",
    "0\n",
    "​\t , когда отличий нет).\n",
    "\n",
    "В качестве ответа к этому заданию требуется ввести количество значимых отличий в каждой группе после того, как произведена коррекция Бенджамини-Хохберга, причем так же, как и во второй части, считать только такие отличия, у которых abs(fold change) > 1.5."
   ],
   "metadata": {
    "collapsed": false
   }
  },
  {
   "cell_type": "code",
   "execution_count": 149,
   "outputs": [],
   "source": [
    "p_corrected_n_n = smm.multipletests(normal_neoplasia_pvalue,\n",
    "                                            alpha = 0.05/2,\n",
    "                                            method = 'fdr_bh')[1]"
   ],
   "metadata": {
    "collapsed": false,
    "pycharm": {
     "name": "#%%\n"
    }
   }
  },
  {
   "cell_type": "code",
   "execution_count": 150,
   "outputs": [],
   "source": [
    "p_corrected_c_n = smm.multipletests(cancer_neoplasia_pvalue,\n",
    "                                            alpha = 0.05/2,\n",
    "                                            method = 'fdr_bh')[1]"
   ],
   "metadata": {
    "collapsed": false,
    "pycharm": {
     "name": "#%%\n"
    }
   }
  },
  {
   "cell_type": "markdown",
   "source": [
    "Практическая значимость изменения на статистически значимых изменениях"
   ],
   "metadata": {
    "collapsed": false
   }
  },
  {
   "cell_type": "code",
   "execution_count": 151,
   "outputs": [],
   "source": [
    "significant_changes = 0\n",
    "for i in range(len(p_corrected_n_n)):\n",
    "    if p_corrected_n_n[i] < 0.05/2:\n",
    "        if neoplasia_mean_genes[i] >= normal_mean_genes[i]:\n",
    "            fold_change = neoplasia_mean_genes[i]/normal_mean_genes[i]\n",
    "        else:\n",
    "            fold_change = -normal_mean_genes[i]/neoplasia_mean_genes[i]\n",
    "        if fold_change > 1.5:\n",
    "            significant_changes += 1"
   ],
   "metadata": {
    "collapsed": false,
    "pycharm": {
     "name": "#%%\n"
    }
   }
  },
  {
   "cell_type": "code",
   "execution_count": 152,
   "outputs": [],
   "source": [
    "write_answer('task5', significant_changes)"
   ],
   "metadata": {
    "collapsed": false,
    "pycharm": {
     "name": "#%%\n"
    }
   }
  },
  {
   "cell_type": "code",
   "execution_count": 153,
   "outputs": [],
   "source": [
    "significant_changes = 0\n",
    "for i in range(len(p_corrected_c_n)):\n",
    "    if p_corrected_c_n[i] < 0.05/2:\n",
    "        if cancer_mean_genes[i] >= neoplasia_mean_genes[i]:\n",
    "            fold_change = cancer_mean_genes[i]/neoplasia_mean_genes[i]\n",
    "        else:\n",
    "            fold_change = abs(-neoplasia_mean_genes[i]/cancer_mean_genes[i])\n",
    "        if fold_change > 1.5:\n",
    "            significant_changes += 1"
   ],
   "metadata": {
    "collapsed": false,
    "pycharm": {
     "name": "#%%\n"
    }
   }
  },
  {
   "cell_type": "code",
   "execution_count": 154,
   "outputs": [],
   "source": [
    "write_answer('task6', significant_changes)"
   ],
   "metadata": {
    "collapsed": false,
    "pycharm": {
     "name": "#%%\n"
    }
   }
  }
 ],
 "metadata": {
  "kernelspec": {
   "display_name": "Python 3",
   "language": "python",
   "name": "python3"
  },
  "language_info": {
   "codemirror_mode": {
    "name": "ipython",
    "version": 2
   },
   "file_extension": ".py",
   "mimetype": "text/x-python",
   "name": "python",
   "nbconvert_exporter": "python",
   "pygments_lexer": "ipython2",
   "version": "2.7.6"
  }
 },
 "nbformat": 4,
 "nbformat_minor": 0
}