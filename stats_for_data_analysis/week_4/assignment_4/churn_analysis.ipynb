{
 "cells": [
  {
   "cell_type": "code",
   "execution_count": 166,
   "outputs": [
    {
     "name": "stdout",
     "output_type": "stream",
     "text": [
      "Populating the interactive namespace from numpy and matplotlib\n"
     ]
    }
   ],
   "source": [
    "import itertools\n",
    "import pandas as pd\n",
    "import numpy as np\n",
    "import pylab\n",
    "import statsmodels\n",
    "import scipy\n",
    "\n",
    "import matplotlib.pyplot as plt\n",
    "from scipy.stats import probplot\n",
    "from statsmodels.stats.multitest import multipletests\n",
    "from statsmodels.stats.proportion import proportion_confint\n",
    "from statsmodels.stats.weightstats import *\n",
    "\n",
    "%pylab inline\n",
    "import seaborn as sns\n",
    "import warnings\n",
    "warnings.filterwarnings('ignore')"
   ],
   "metadata": {
    "collapsed": false,
    "pycharm": {
     "name": "#%%\n"
    }
   }
  },
  {
   "cell_type": "markdown",
   "source": [
    "В этом задании вам предлагается проанализировать данные одной из американских телекоммуникационных компаний  о пользователях, которые потенциально могут уйти."
   ],
   "metadata": {
    "collapsed": false,
    "pycharm": {
     "name": "#%% md\n"
    }
   }
  },
  {
   "cell_type": "markdown",
   "source": [
    "Измерены следующие признаки:\n",
    "\n",
    "* state — штат США\n",
    "* account_length — длительность использования аккаунта\n",
    "* area_code — деление пользователей на псевдорегионы, использующееся в телекоме\n",
    "* intl_plan — подключена ли у пользователя услуга международного общения\n",
    "* vmail_plan — подключена ли у пользователя услуга голосовых сообщений\n",
    "* vmail_message — количество голосовых сообщений, который пользователь отправил / принял\n",
    "* day_calls — сколько пользователь совершил дневных звонков\n",
    "* day_mins — сколько пользователь проговорил минут в течение дня\n",
    "* day_charge — сколько пользователь заплатил за свою дневную активность\n",
    "* eve_calls, eve_mins, eve_charge — аналогичные метрики относительно вечерней активности\n",
    "* night_calls, night_mins, night_charge — аналогичные метрики относительно ночной активности\n",
    "* intl_calls, intl_mins, intl_charge — аналогичные метрики относительно международного общения\n",
    "* custserv_calls — сколько раз пользователь позвонил в службу поддержки\n",
    "* treatment — номер стратегии, которая применялись для удержания абонентов (0, 2 = два разных типа воздействия, 1 = контрольная группа)\n",
    "* mes_estim — оценка интенсивности пользования интернет мессенджерами\n",
    "* churn — результат оттока: перестал ли абонент пользоваться услугами оператора"
   ],
   "metadata": {
    "collapsed": false
   }
  },
  {
   "cell_type": "code",
   "execution_count": 167,
   "outputs": [],
   "source": [
    "data = pd.read_csv('churn_analysis.csv')"
   ],
   "metadata": {
    "collapsed": false,
    "pycharm": {
     "name": "#%%\n"
    }
   }
  },
  {
   "cell_type": "code",
   "execution_count": 168,
   "outputs": [],
   "source": [
    "data.drop('Unnamed: 0', axis=1, inplace=True)\n",
    "data['churn'] = data['churn'].map({'False.': 0,'True.': 1})\n",
    "data['intl_plan'] = data['intl_plan'].map({'no': 0,'yes': 1})\n",
    "data['vmail_plan'] = data['vmail_plan'].map({'no': 0,'yes': 1})"
   ],
   "metadata": {
    "collapsed": false,
    "pycharm": {
     "name": "#%%\n"
    }
   }
  },
  {
   "cell_type": "code",
   "execution_count": 169,
   "outputs": [
    {
     "data": {
      "text/plain": "  state  account_length  area_code  intl_plan  vmail_plan  vmail_message  \\\n0    KS             128        415          0           1             25   \n1    OH             107        415          0           1             26   \n2    NJ             137        415          0           0              0   \n3    OH              84        408          1           0              0   \n4    OK              75        415          1           0              0   \n\n   day_mins  day_calls  day_charge  eve_mins  ...  night_mins  night_calls  \\\n0     265.1        110       45.07     197.4  ...       244.7           91   \n1     161.6        123       27.47     195.5  ...       254.4          103   \n2     243.4        114       41.38     121.2  ...       162.6          104   \n3     299.4         71       50.90      61.9  ...       196.9           89   \n4     166.7        113       28.34     148.3  ...       186.9          121   \n\n   night_charge  intl_mins  intl_calls  intl_charge  custserv_calls  \\\n0         11.01       10.0           3         2.70               1   \n1         11.45       13.7           3         3.70               1   \n2          7.32       12.2           5         3.29               0   \n3          8.86        6.6           7         1.78               2   \n4          8.41       10.1           3         2.73               3   \n\n   treatment  mes_estim  churn  \n0          1       0.65      0  \n1          0       0.55      0  \n2          0       0.72      0  \n3          1       0.28      0  \n4          2       0.45      0  \n\n[5 rows x 22 columns]",
      "text/html": "<div>\n<style scoped>\n    .dataframe tbody tr th:only-of-type {\n        vertical-align: middle;\n    }\n\n    .dataframe tbody tr th {\n        vertical-align: top;\n    }\n\n    .dataframe thead th {\n        text-align: right;\n    }\n</style>\n<table border=\"1\" class=\"dataframe\">\n  <thead>\n    <tr style=\"text-align: right;\">\n      <th></th>\n      <th>state</th>\n      <th>account_length</th>\n      <th>area_code</th>\n      <th>intl_plan</th>\n      <th>vmail_plan</th>\n      <th>vmail_message</th>\n      <th>day_mins</th>\n      <th>day_calls</th>\n      <th>day_charge</th>\n      <th>eve_mins</th>\n      <th>...</th>\n      <th>night_mins</th>\n      <th>night_calls</th>\n      <th>night_charge</th>\n      <th>intl_mins</th>\n      <th>intl_calls</th>\n      <th>intl_charge</th>\n      <th>custserv_calls</th>\n      <th>treatment</th>\n      <th>mes_estim</th>\n      <th>churn</th>\n    </tr>\n  </thead>\n  <tbody>\n    <tr>\n      <th>0</th>\n      <td>KS</td>\n      <td>128</td>\n      <td>415</td>\n      <td>0</td>\n      <td>1</td>\n      <td>25</td>\n      <td>265.1</td>\n      <td>110</td>\n      <td>45.07</td>\n      <td>197.4</td>\n      <td>...</td>\n      <td>244.7</td>\n      <td>91</td>\n      <td>11.01</td>\n      <td>10.0</td>\n      <td>3</td>\n      <td>2.70</td>\n      <td>1</td>\n      <td>1</td>\n      <td>0.65</td>\n      <td>0</td>\n    </tr>\n    <tr>\n      <th>1</th>\n      <td>OH</td>\n      <td>107</td>\n      <td>415</td>\n      <td>0</td>\n      <td>1</td>\n      <td>26</td>\n      <td>161.6</td>\n      <td>123</td>\n      <td>27.47</td>\n      <td>195.5</td>\n      <td>...</td>\n      <td>254.4</td>\n      <td>103</td>\n      <td>11.45</td>\n      <td>13.7</td>\n      <td>3</td>\n      <td>3.70</td>\n      <td>1</td>\n      <td>0</td>\n      <td>0.55</td>\n      <td>0</td>\n    </tr>\n    <tr>\n      <th>2</th>\n      <td>NJ</td>\n      <td>137</td>\n      <td>415</td>\n      <td>0</td>\n      <td>0</td>\n      <td>0</td>\n      <td>243.4</td>\n      <td>114</td>\n      <td>41.38</td>\n      <td>121.2</td>\n      <td>...</td>\n      <td>162.6</td>\n      <td>104</td>\n      <td>7.32</td>\n      <td>12.2</td>\n      <td>5</td>\n      <td>3.29</td>\n      <td>0</td>\n      <td>0</td>\n      <td>0.72</td>\n      <td>0</td>\n    </tr>\n    <tr>\n      <th>3</th>\n      <td>OH</td>\n      <td>84</td>\n      <td>408</td>\n      <td>1</td>\n      <td>0</td>\n      <td>0</td>\n      <td>299.4</td>\n      <td>71</td>\n      <td>50.90</td>\n      <td>61.9</td>\n      <td>...</td>\n      <td>196.9</td>\n      <td>89</td>\n      <td>8.86</td>\n      <td>6.6</td>\n      <td>7</td>\n      <td>1.78</td>\n      <td>2</td>\n      <td>1</td>\n      <td>0.28</td>\n      <td>0</td>\n    </tr>\n    <tr>\n      <th>4</th>\n      <td>OK</td>\n      <td>75</td>\n      <td>415</td>\n      <td>1</td>\n      <td>0</td>\n      <td>0</td>\n      <td>166.7</td>\n      <td>113</td>\n      <td>28.34</td>\n      <td>148.3</td>\n      <td>...</td>\n      <td>186.9</td>\n      <td>121</td>\n      <td>8.41</td>\n      <td>10.1</td>\n      <td>3</td>\n      <td>2.73</td>\n      <td>3</td>\n      <td>2</td>\n      <td>0.45</td>\n      <td>0</td>\n    </tr>\n  </tbody>\n</table>\n<p>5 rows × 22 columns</p>\n</div>"
     },
     "execution_count": 169,
     "metadata": {},
     "output_type": "execute_result"
    }
   ],
   "source": [
    "data.head()"
   ],
   "metadata": {
    "collapsed": false,
    "pycharm": {
     "name": "#%%\n"
    }
   }
  },
  {
   "cell_type": "markdown",
   "source": [
    "### Задание 1"
   ],
   "metadata": {
    "collapsed": false,
    "pycharm": {
     "name": "#%% md\n"
    }
   }
  },
  {
   "cell_type": "markdown",
   "source": [
    "Давайте рассмотрим всех пользователей из контрольной группы (treatment = 1). Для таких пользователей мы хотим проверить гипотезу о том, что штат абонента не влияет на то, перестанет ли абонент пользоваться услугами оператора.\n",
    "\n",
    "Для этого мы воспользуемся критерием хи-квадрат.  Постройте таблицы сопряженности между каждой из всех 1275 возможных неупорядоченных пар штатов и значением признака churn."
   ],
   "metadata": {
    "collapsed": false
   }
  },
  {
   "cell_type": "code",
   "execution_count": 170,
   "outputs": [
    {
     "name": "stdout",
     "output_type": "stream",
     "text": [
      "Всего пар штатов: 1275\n"
     ]
    }
   ],
   "source": [
    "from itertools import combinations\n",
    "\n",
    "control_group = data[(data['treatment'] == 1)]\n",
    "\n",
    "states = np.unique(data['state'])\n",
    "\n",
    "state_pairs = list(combinations(states, 2))\n",
    "\n",
    "print('Всего пар штатов:', len(state_pairs))"
   ],
   "metadata": {
    "collapsed": false,
    "pycharm": {
     "name": "#%%\n"
    }
   }
  },
  {
   "cell_type": "code",
   "execution_count": 171,
   "outputs": [
    {
     "data": {
      "text/plain": "churn     0    1\nstate           \nAK     19.0  1.0\nAL     25.0  5.0\nAR     11.0  5.0\nAZ     17.0  2.0\nCA     10.0  5.0",
      "text/html": "<div>\n<style scoped>\n    .dataframe tbody tr th:only-of-type {\n        vertical-align: middle;\n    }\n\n    .dataframe tbody tr th {\n        vertical-align: top;\n    }\n\n    .dataframe thead th {\n        text-align: right;\n    }\n</style>\n<table border=\"1\" class=\"dataframe\">\n  <thead>\n    <tr style=\"text-align: right;\">\n      <th>churn</th>\n      <th>0</th>\n      <th>1</th>\n    </tr>\n    <tr>\n      <th>state</th>\n      <th></th>\n      <th></th>\n    </tr>\n  </thead>\n  <tbody>\n    <tr>\n      <th>AK</th>\n      <td>19.0</td>\n      <td>1.0</td>\n    </tr>\n    <tr>\n      <th>AL</th>\n      <td>25.0</td>\n      <td>5.0</td>\n    </tr>\n    <tr>\n      <th>AR</th>\n      <td>11.0</td>\n      <td>5.0</td>\n    </tr>\n    <tr>\n      <th>AZ</th>\n      <td>17.0</td>\n      <td>2.0</td>\n    </tr>\n    <tr>\n      <th>CA</th>\n      <td>10.0</td>\n      <td>5.0</td>\n    </tr>\n  </tbody>\n</table>\n</div>"
     },
     "execution_count": 171,
     "metadata": {},
     "output_type": "execute_result"
    }
   ],
   "source": [
    "ct = pd.crosstab(index = control_group['state'], columns = control_group['churn'],\n",
    "                 values = control_group['churn'], aggfunc = len)\n",
    "\n",
    "ct.head()"
   ],
   "metadata": {
    "collapsed": false,
    "pycharm": {
     "name": "#%%\n"
    }
   }
  },
  {
   "cell_type": "code",
   "execution_count": 172,
   "outputs": [],
   "source": [
    "chi2_ps = []\n",
    "\n",
    "for i in range(len(state_pairs)):\n",
    "    chi2_ps.append(stats.chi2_contingency(ct.loc[state_pairs[i], :].fillna(0), correction=False)[1])\n"
   ],
   "metadata": {
    "collapsed": false,
    "pycharm": {
     "name": "#%%\n"
    }
   }
  },
  {
   "cell_type": "code",
   "execution_count": 173,
   "outputs": [
    {
     "name": "stdout",
     "output_type": "stream",
     "text": [
      "34 достигаемых уровней значимости оказались меньше 0,05\n"
     ]
    }
   ],
   "source": [
    "print(np.sum(np.asarray(chi2_ps) < .05), 'достигаемых уровней значимости оказались меньше 0,05')"
   ],
   "metadata": {
    "collapsed": false,
    "pycharm": {
     "name": "#%%\n"
    }
   }
  },
  {
   "cell_type": "code",
   "execution_count": 174,
   "outputs": [
    {
     "data": {
      "text/plain": "0.7097590042778473"
     },
     "execution_count": 174,
     "metadata": {},
     "output_type": "execute_result"
    }
   ],
   "source": [
    "stats.chi2_contingency(ct.fillna(0), correction=False)[1]"
   ],
   "metadata": {
    "collapsed": false,
    "pycharm": {
     "name": "#%%\n"
    }
   }
  },
  {
   "cell_type": "markdown",
   "source": [
    "В основе критерия xи-квадрат лежит предположение о том, что если верна нулевая гипотеза, то дискретное биномиальное распределение данных по клеткам в  таблице сопряженности  может быть аппроксимировано с помощью непрерывного распределения xи-квадрат.  Однако точность такой аппроксимации существенно зависит от суммарного количества наблюдений и их распределения в этой таблице (отсюда и ограничения при использовании критерия xи-квадрат).\n",
    "\n",
    "Одним из способов коррекции точности аппроксимации является поправка Йетса на непрерывность.  Эта поправка заключается в  вычитании константы 0.5  из каждого модуля разности наблюденного $$O_i$$ и ожидаемого $$E_i$$ значений, то есть, статистика с такой поправкой выглядит так:\n",
    "$$\\chi^2_{Yates} = \\sum_{i=1}^n\\frac{(|O_i - E_i| - 0.5)^2}{E_i}$$"
   ],
   "metadata": {
    "collapsed": false
   }
  },
  {
   "cell_type": "markdown",
   "source": [
    "Такая поправка, как несложно догадаться по формуле, как правило, уменьшает  значение статистики  \\chi^{2} χ\n",
    "2\n",
    " , то есть увеличивает достигаемый уровень значимости.\n",
    "\n",
    "Эта поправка обычно используется для таблиц сопряженности размером 2x2  и для небольшого количества наблюдений. Такая поправка, однако, не является серебрянной пулей, и часто критикуется за то, что статистический критерий при ее использовании становится слишком консервативным, то есть часто не отвергает нулевую гипотезу там, где она неверна (совершает ошибку II рода).\n",
    "\n",
    "Полезно знать, что эта поправка часто включена по  умолчанию (например, в функции scipy.stats.chi2_contingency) и понимать ее влияние на оценку достигаемого уровня значимости.\n",
    "\n",
    "Проведите те же самые сравнения, что и в вопросе №1, только с включенной коррекцией"
   ],
   "metadata": {
    "collapsed": false,
    "pycharm": {
     "name": "#%% md\n"
    }
   }
  },
  {
   "cell_type": "code",
   "execution_count": 176,
   "outputs": [],
   "source": [
    "chi2_ps_corrected = []\n",
    "\n",
    "for i in range(len(state_pairs)):\n",
    "    chi2_ps_corrected.append(stats.chi2_contingency(ct.loc[state_pairs[i], :].fillna(0), correction=True)[1])"
   ],
   "metadata": {
    "collapsed": false,
    "pycharm": {
     "name": "#%%\n"
    }
   }
  },
  {
   "cell_type": "code",
   "execution_count": 177,
   "outputs": [
    {
     "name": "stdout",
     "output_type": "stream",
     "text": [
      "0 достигаемых уровней значимости оказались меньше 0,05 после корректировки\n"
     ]
    }
   ],
   "source": [
    "print(np.sum(np.asarray(chi2_ps_corrected) < .05), 'достигаемых уровней значимости оказались меньше 0,05 после корректировки')"
   ],
   "metadata": {
    "collapsed": false,
    "pycharm": {
     "name": "#%%\n"
    }
   }
  },
  {
   "cell_type": "markdown",
   "source": [
    "Что если у нас мало данных,  мы не хотим использовать аппроксимацию дискретного распределения непрерывным и использовать сомнительную поправку,  предположения  критерия xи-квадрат не выполняются, а проверить гипотезу о том, что данные принадлежат одному распределению, нужно ?\n",
    "\n",
    "В таком случае прибегают к так называемому точному критерию Фишера. Этот  критерий не использует приближений  и в точности вычисляет значение достигаемого уровня значимости используя комбинаторный подход.\n"
   ],
   "metadata": {
    "collapsed": false,
    "pycharm": {
     "name": "#%% md\n"
    }
   }
  },
  {
   "cell_type": "markdown",
   "source": [
    "Тогда вероятность получить именно такие a, b, c, da,b,c,d при фиксированных значениях сумм по строкам и по столбцам) задается выражением:\n",
    "$$p= \\frac{\\begin{pmatrix} a+ b\\\\a\\end{pmatrix}\\begin{pmatrix} c + d\\\\c\\end{pmatrix}}{\\begin{pmatrix} n\\\\a + c\\end{pmatrix}} = \\frac{(a + b)!(c + d)!(a + c)!(b + d)!}{a! b! d! c! n!}$$"
   ],
   "metadata": {
    "collapsed": false,
    "pycharm": {
     "name": "#%% md\n"
    }
   }
  },
  {
   "cell_type": "markdown",
   "source": [
    "В числителе этой дроби стоит суммарное количество способов выбрать a и c из a+b и c+d соответственно. А в знаменателе — количество способов выбрать число объектов, равное сумме элементов первого столбца a+c из общего количества рассматриваемых объектов n.\n",
    "\n",
    "Чтобы посчитать достигаемый уровень значимости критерия Фишера, нужно перебрать все возможные значения a, b, c, d, в клетках этой таблицы так, чтобы построковые и постолбцовые суммы не изменились. Для каждого такого набора a, b, c, d нужно вычислить значение $$p_i$$ по формуле выше и просуммировать все такие значения $$p_i$$, которые меньше или равны p, которое мы вычислили по наблюдаемым значениям a, b, c, d.\n",
    "\n",
    "Понятно, что такой критерий вычислительно неудобен в силу большого количества факториалов в формуле выше. То есть даже при небольших выборках для вычисления значения этого критерия приходится оперировать очень большими числами. Поэтому данным критерием пользуются обычно только для таблиц 2x2, но сам критерий никак не ограничен количеством строк и столбцов, и его можно построить для любой таблицы n×m.\n",
    "\n",
    "Посчитайте для каждой пары штатов, как и в первом задании, достигаемый уровень значимости с помощью точного критерия Фишера и сравните получившиеся значения с двумя другими подходами, описанными выше."
   ],
   "metadata": {
    "collapsed": false,
    "pycharm": {
     "name": "#%% md\n"
    }
   }
  },
  {
   "cell_type": "code",
   "execution_count": 178,
   "outputs": [],
   "source": [
    "fisher_ps = []\n",
    "for i in range(len(state_pairs)):\n",
    "    fisher_ps.append(stats.fisher_exact(ct.loc[state_pairs[i], :].fillna(0))[1])"
   ],
   "metadata": {
    "collapsed": false,
    "pycharm": {
     "name": "#%%\n"
    }
   }
  },
  {
   "cell_type": "code",
   "execution_count": 179,
   "outputs": [
    {
     "name": "stdout",
     "output_type": "stream",
     "text": [
      "10 достигаемых уровней значимости оказались меньше 0,05\n"
     ]
    }
   ],
   "source": [
    "print(np.sum(np.asarray(fisher_ps) < .05), 'достигаемых уровней значимости оказались меньше 0,05')"
   ],
   "metadata": {
    "collapsed": false,
    "pycharm": {
     "name": "#%%\n"
    }
   }
  },
  {
   "cell_type": "markdown",
   "source": [
    "Рассмотрим пару признаков day_calls и  mes_estim. Посчитайте корреляцию Пирсона между этими признаками на всех данных, ее значимость."
   ],
   "metadata": {
    "collapsed": false,
    "pycharm": {
     "name": "#%% md\n"
    }
   }
  },
  {
   "cell_type": "code",
   "execution_count": 180,
   "outputs": [],
   "source": [
    "from scipy.stats.stats import pearsonr\n",
    "import matplotlib.pyplot as plt"
   ],
   "metadata": {
    "collapsed": false,
    "pycharm": {
     "name": "#%%\n"
    }
   }
  },
  {
   "cell_type": "code",
   "source": [
    "corr, p = pearsonr(data['day_calls'], data['mes_estim'])\n",
    "\n",
    "print('R = {}\\np-value = {}'.format(round(corr, 2), p))"
   ],
   "metadata": {
    "collapsed": false,
    "pycharm": {
     "name": "#%%\n"
    }
   },
   "execution_count": 182,
   "outputs": [
    {
     "name": "stdout",
     "output_type": "stream",
     "text": [
      "R = -0.05\n",
      "p-value = 0.0027798836869732313\n"
     ]
    }
   ]
  },
  {
   "cell_type": "code",
   "execution_count": 183,
   "outputs": [
    {
     "data": {
      "text/plain": "<Figure size 432x288 with 1 Axes>",
      "image/png": "[encoded data removed]"
     },
     "metadata": {
      "needs_background": "light"
     },
     "output_type": "display_data"
    }
   ],
   "source": [
    "plt.hist(data['day_calls'])\n",
    "plt.title('Распределение day_calls')\n",
    "plt.show()"
   ],
   "metadata": {
    "collapsed": false,
    "pycharm": {
     "name": "#%%\n"
    }
   }
  },
  {
   "cell_type": "code",
   "execution_count": 184,
   "outputs": [
    {
     "data": {
      "text/plain": "<Figure size 432x288 with 1 Axes>",
      "image/png": "[encoded data removed]"
     },
     "metadata": {
      "needs_background": "light"
     },
     "output_type": "display_data"
    }
   ],
   "source": [
    "plt.hist(data['mes_estim'])\n",
    "plt.title('Распределение mes_estim')\n",
    "plt.show()"
   ],
   "metadata": {
    "collapsed": false,
    "pycharm": {
     "name": "#%%\n"
    }
   }
  },
  {
   "cell_type": "markdown",
   "source": [
    "Еще раз рассмотрим пару признаков day_calls и  mes_estim. Посчитайте корреляцию Спирмена между этими признаками на всех данных, ее значимость."
   ],
   "metadata": {
    "collapsed": false,
    "pycharm": {
     "name": "#%% md\n"
    }
   }
  },
  {
   "cell_type": "code",
   "execution_count": 185,
   "outputs": [],
   "source": [
    "from scipy.stats import spearmanr"
   ],
   "metadata": {
    "collapsed": false,
    "pycharm": {
     "name": "#%%\n"
    }
   }
  },
  {
   "cell_type": "code",
   "execution_count": 187,
   "outputs": [
    {
     "name": "stdout",
     "output_type": "stream",
     "text": [
      "R = 0.04\n",
      "p-value = 0.012317367189170543\n"
     ]
    }
   ],
   "source": [
    "corr, p = spearmanr(data['day_calls'], data['mes_estim'])\n",
    "\n",
    "print('R = {}\\np-value = {}'.format(round(corr, 2), p))"
   ],
   "metadata": {
    "collapsed": false,
    "pycharm": {
     "name": "#%%\n"
    }
   }
  },
  {
   "cell_type": "markdown",
   "source": [
    "Посчитайте значение коэффицента корреляции Крамера между двумя признаками: штатом (state) и оттоком пользователей (churn) для всех пользователей, которые находились в контрольной группе (treatment=1). Что можно сказать о достигаемом уровне значимости при проверке гипотезы о равенство нулю этого коэффициента?"
   ],
   "metadata": {
    "collapsed": false
   }
  },
  {
   "cell_type": "code",
   "execution_count": 188,
   "outputs": [
    {
     "name": "stdout",
     "output_type": "stream",
     "text": [
      "Cramer Correlation = 0.2004\n",
      "p-value = 0.7097590042778473\n"
     ]
    }
   ],
   "source": [
    "cramer = np.sqrt(stats.chi2_contingency(ct.fillna(0))[0]/control_group.shape[0])\n",
    "\n",
    "print('Cramer Correlation =', round(cramer, 4))\n",
    "print('p-value =', stats.chi2_contingency(ct.fillna(0))[1])"
   ],
   "metadata": {
    "collapsed": false,
    "pycharm": {
     "name": "#%%\n"
    }
   }
  }
 ],
 "metadata": {
  "kernelspec": {
   "display_name": "Python 3",
   "language": "python",
   "name": "python3"
  },
  "language_info": {
   "codemirror_mode": {
    "name": "ipython",
    "version": 2
   },
   "file_extension": ".py",
   "mimetype": "text/x-python",
   "name": "python",
   "nbconvert_exporter": "python",
   "pygments_lexer": "ipython2",
   "version": "2.7.6"
  }
 },
 "nbformat": 4,
 "nbformat_minor": 0
}