{
 "cells": [
  {
   "cell_type": "code",
   "execution_count": 103,
   "metadata": {
    "collapsed": true
   },
   "outputs": [],
   "source": [
    "import numpy as np\n",
    "import pandas as pd\n",
    "import scipy\n",
    "from scipy import stats\n",
    "from statsmodels.stats.multitest import multipletests\n",
    "import statsmodels.formula.api as smf\n",
    "import statsmodels.stats.api as sms\n",
    "from statsmodels.stats import diagnostic"
   ]
  },
  {
   "cell_type": "code",
   "execution_count": 104,
   "outputs": [],
   "source": [
    "data = pd.read_csv('botswana.tsv', sep='\\t')"
   ],
   "metadata": {
    "collapsed": false,
    "pycharm": {
     "name": "#%%\n"
    }
   }
  },
  {
   "cell_type": "code",
   "execution_count": 105,
   "outputs": [
    {
     "data": {
      "text/plain": "   ceb  age  educ    religion  idlnchld  knowmeth  usemeth  evermarr  agefm  \\\n0    0   18    10    catholic       4.0       1.0      1.0         0    NaN   \n1    2   43    11  protestant       2.0       1.0      1.0         1   20.0   \n2    0   49     4      spirit       4.0       1.0      0.0         1   22.0   \n3    0   24    12       other       2.0       1.0      0.0         0    NaN   \n4    3   32    13       other       3.0       1.0      1.0         1   24.0   \n\n   heduc  urban  electric  radio   tv  bicycle  \n0    NaN      1       1.0    1.0  1.0      1.0  \n1   14.0      1       1.0    1.0  1.0      1.0  \n2    1.0      1       1.0    1.0  0.0      0.0  \n3    NaN      1       1.0    1.0  1.0      1.0  \n4   12.0      1       1.0    1.0  1.0      1.0  ",
      "text/html": "<div>\n<style scoped>\n    .dataframe tbody tr th:only-of-type {\n        vertical-align: middle;\n    }\n\n    .dataframe tbody tr th {\n        vertical-align: top;\n    }\n\n    .dataframe thead th {\n        text-align: right;\n    }\n</style>\n<table border=\"1\" class=\"dataframe\">\n  <thead>\n    <tr style=\"text-align: right;\">\n      <th></th>\n      <th>ceb</th>\n      <th>age</th>\n      <th>educ</th>\n      <th>religion</th>\n      <th>idlnchld</th>\n      <th>knowmeth</th>\n      <th>usemeth</th>\n      <th>evermarr</th>\n      <th>agefm</th>\n      <th>heduc</th>\n      <th>urban</th>\n      <th>electric</th>\n      <th>radio</th>\n      <th>tv</th>\n      <th>bicycle</th>\n    </tr>\n  </thead>\n  <tbody>\n    <tr>\n      <th>0</th>\n      <td>0</td>\n      <td>18</td>\n      <td>10</td>\n      <td>catholic</td>\n      <td>4.0</td>\n      <td>1.0</td>\n      <td>1.0</td>\n      <td>0</td>\n      <td>NaN</td>\n      <td>NaN</td>\n      <td>1</td>\n      <td>1.0</td>\n      <td>1.0</td>\n      <td>1.0</td>\n      <td>1.0</td>\n    </tr>\n    <tr>\n      <th>1</th>\n      <td>2</td>\n      <td>43</td>\n      <td>11</td>\n      <td>protestant</td>\n      <td>2.0</td>\n      <td>1.0</td>\n      <td>1.0</td>\n      <td>1</td>\n      <td>20.0</td>\n      <td>14.0</td>\n      <td>1</td>\n      <td>1.0</td>\n      <td>1.0</td>\n      <td>1.0</td>\n      <td>1.0</td>\n    </tr>\n    <tr>\n      <th>2</th>\n      <td>0</td>\n      <td>49</td>\n      <td>4</td>\n      <td>spirit</td>\n      <td>4.0</td>\n      <td>1.0</td>\n      <td>0.0</td>\n      <td>1</td>\n      <td>22.0</td>\n      <td>1.0</td>\n      <td>1</td>\n      <td>1.0</td>\n      <td>1.0</td>\n      <td>0.0</td>\n      <td>0.0</td>\n    </tr>\n    <tr>\n      <th>3</th>\n      <td>0</td>\n      <td>24</td>\n      <td>12</td>\n      <td>other</td>\n      <td>2.0</td>\n      <td>1.0</td>\n      <td>0.0</td>\n      <td>0</td>\n      <td>NaN</td>\n      <td>NaN</td>\n      <td>1</td>\n      <td>1.0</td>\n      <td>1.0</td>\n      <td>1.0</td>\n      <td>1.0</td>\n    </tr>\n    <tr>\n      <th>4</th>\n      <td>3</td>\n      <td>32</td>\n      <td>13</td>\n      <td>other</td>\n      <td>3.0</td>\n      <td>1.0</td>\n      <td>1.0</td>\n      <td>1</td>\n      <td>24.0</td>\n      <td>12.0</td>\n      <td>1</td>\n      <td>1.0</td>\n      <td>1.0</td>\n      <td>1.0</td>\n      <td>1.0</td>\n    </tr>\n  </tbody>\n</table>\n</div>"
     },
     "execution_count": 105,
     "metadata": {},
     "output_type": "execute_result"
    }
   ],
   "source": [
    "data.head()"
   ],
   "metadata": {
    "collapsed": false,
    "pycharm": {
     "name": "#%%\n"
    }
   }
  },
  {
   "cell_type": "code",
   "execution_count": 106,
   "outputs": [
    {
     "data": {
      "text/plain": "array(['ceb', 'age', 'educ', 'religion', 'idlnchld', 'knowmeth',\n       'usemeth', 'evermarr', 'agefm', 'heduc', 'urban', 'electric',\n       'radio', 'tv', 'bicycle'], dtype=object)"
     },
     "execution_count": 106,
     "metadata": {},
     "output_type": "execute_result"
    }
   ],
   "source": [
    "columns = data.columns.values\n",
    "columns"
   ],
   "metadata": {
    "collapsed": false,
    "pycharm": {
     "name": "#%%\n"
    }
   }
  },
  {
   "cell_type": "code",
   "execution_count": 107,
   "outputs": [
    {
     "data": {
      "text/plain": "4"
     },
     "execution_count": 107,
     "metadata": {},
     "output_type": "execute_result"
    }
   ],
   "source": [
    "len(data['religion'].unique())"
   ],
   "metadata": {
    "collapsed": false,
    "pycharm": {
     "name": "#%%\n"
    }
   }
  },
  {
   "cell_type": "code",
   "execution_count": 108,
   "outputs": [
    {
     "data": {
      "text/plain": "1834"
     },
     "execution_count": 108,
     "metadata": {},
     "output_type": "execute_result"
    }
   ],
   "source": [
    "len(data.dropna())"
   ],
   "metadata": {
    "collapsed": false,
    "pycharm": {
     "name": "#%%\n"
    }
   }
  },
  {
   "cell_type": "code",
   "execution_count": 109,
   "outputs": [],
   "source": [
    "data['nevermarr'] = pd.DataFrame([0 if item == 1 else 1 for item in data['evermarr']])"
   ],
   "metadata": {
    "collapsed": false,
    "pycharm": {
     "name": "#%%\n"
    }
   }
  },
  {
   "cell_type": "code",
   "execution_count": 110,
   "outputs": [],
   "source": [
    "data.drop(['evermarr'], axis=1, inplace=True)"
   ],
   "metadata": {
    "collapsed": false,
    "pycharm": {
     "name": "#%%\n"
    }
   }
  },
  {
   "cell_type": "code",
   "execution_count": 112,
   "outputs": [
    {
     "data": {
      "text/plain": "   ceb  age  educ    religion  idlnchld  knowmeth  usemeth  agefm  heduc  \\\n0    0   18    10    catholic       4.0       1.0      1.0    NaN    NaN   \n1    2   43    11  protestant       2.0       1.0      1.0   20.0   14.0   \n2    0   49     4      spirit       4.0       1.0      0.0   22.0    1.0   \n3    0   24    12       other       2.0       1.0      0.0    NaN    NaN   \n4    3   32    13       other       3.0       1.0      1.0   24.0   12.0   \n\n   urban  electric  radio   tv  bicycle  nevermarr  \n0      1       1.0    1.0  1.0      1.0          1  \n1      1       1.0    1.0  1.0      1.0          0  \n2      1       1.0    1.0  0.0      0.0          0  \n3      1       1.0    1.0  1.0      1.0          1  \n4      1       1.0    1.0  1.0      1.0          0  ",
      "text/html": "<div>\n<style scoped>\n    .dataframe tbody tr th:only-of-type {\n        vertical-align: middle;\n    }\n\n    .dataframe tbody tr th {\n        vertical-align: top;\n    }\n\n    .dataframe thead th {\n        text-align: right;\n    }\n</style>\n<table border=\"1\" class=\"dataframe\">\n  <thead>\n    <tr style=\"text-align: right;\">\n      <th></th>\n      <th>ceb</th>\n      <th>age</th>\n      <th>educ</th>\n      <th>religion</th>\n      <th>idlnchld</th>\n      <th>knowmeth</th>\n      <th>usemeth</th>\n      <th>agefm</th>\n      <th>heduc</th>\n      <th>urban</th>\n      <th>electric</th>\n      <th>radio</th>\n      <th>tv</th>\n      <th>bicycle</th>\n      <th>nevermarr</th>\n    </tr>\n  </thead>\n  <tbody>\n    <tr>\n      <th>0</th>\n      <td>0</td>\n      <td>18</td>\n      <td>10</td>\n      <td>catholic</td>\n      <td>4.0</td>\n      <td>1.0</td>\n      <td>1.0</td>\n      <td>NaN</td>\n      <td>NaN</td>\n      <td>1</td>\n      <td>1.0</td>\n      <td>1.0</td>\n      <td>1.0</td>\n      <td>1.0</td>\n      <td>1</td>\n    </tr>\n    <tr>\n      <th>1</th>\n      <td>2</td>\n      <td>43</td>\n      <td>11</td>\n      <td>protestant</td>\n      <td>2.0</td>\n      <td>1.0</td>\n      <td>1.0</td>\n      <td>20.0</td>\n      <td>14.0</td>\n      <td>1</td>\n      <td>1.0</td>\n      <td>1.0</td>\n      <td>1.0</td>\n      <td>1.0</td>\n      <td>0</td>\n    </tr>\n    <tr>\n      <th>2</th>\n      <td>0</td>\n      <td>49</td>\n      <td>4</td>\n      <td>spirit</td>\n      <td>4.0</td>\n      <td>1.0</td>\n      <td>0.0</td>\n      <td>22.0</td>\n      <td>1.0</td>\n      <td>1</td>\n      <td>1.0</td>\n      <td>1.0</td>\n      <td>0.0</td>\n      <td>0.0</td>\n      <td>0</td>\n    </tr>\n    <tr>\n      <th>3</th>\n      <td>0</td>\n      <td>24</td>\n      <td>12</td>\n      <td>other</td>\n      <td>2.0</td>\n      <td>1.0</td>\n      <td>0.0</td>\n      <td>NaN</td>\n      <td>NaN</td>\n      <td>1</td>\n      <td>1.0</td>\n      <td>1.0</td>\n      <td>1.0</td>\n      <td>1.0</td>\n      <td>1</td>\n    </tr>\n    <tr>\n      <th>4</th>\n      <td>3</td>\n      <td>32</td>\n      <td>13</td>\n      <td>other</td>\n      <td>3.0</td>\n      <td>1.0</td>\n      <td>1.0</td>\n      <td>24.0</td>\n      <td>12.0</td>\n      <td>1</td>\n      <td>1.0</td>\n      <td>1.0</td>\n      <td>1.0</td>\n      <td>1.0</td>\n      <td>0</td>\n    </tr>\n  </tbody>\n</table>\n</div>"
     },
     "execution_count": 112,
     "metadata": {},
     "output_type": "execute_result"
    }
   ],
   "source": [
    "data.head()"
   ],
   "metadata": {
    "collapsed": false,
    "pycharm": {
     "name": "#%%\n"
    }
   }
  },
  {
   "cell_type": "code",
   "execution_count": 113,
   "outputs": [],
   "source": [
    "data['agefm'].fillna(0, inplace=True)"
   ],
   "metadata": {
    "collapsed": false,
    "pycharm": {
     "name": "#%%\n"
    }
   }
  },
  {
   "cell_type": "code",
   "execution_count": 114,
   "outputs": [],
   "source": [
    "data.loc[data['nevermarr']==1, 'heduc'] = data.loc[data['nevermarr']==1, 'heduc'].fillna(-1)"
   ],
   "metadata": {
    "collapsed": false,
    "pycharm": {
     "name": "#%%\n"
    }
   }
  },
  {
   "cell_type": "code",
   "execution_count": 115,
   "outputs": [
    {
     "data": {
      "text/plain": "   ceb  age  educ    religion  idlnchld  knowmeth  usemeth  agefm  heduc  \\\n0    0   18    10    catholic       4.0       1.0      1.0    0.0   -1.0   \n1    2   43    11  protestant       2.0       1.0      1.0   20.0   14.0   \n2    0   49     4      spirit       4.0       1.0      0.0   22.0    1.0   \n3    0   24    12       other       2.0       1.0      0.0    0.0   -1.0   \n4    3   32    13       other       3.0       1.0      1.0   24.0   12.0   \n\n   urban  electric  radio   tv  bicycle  nevermarr  \n0      1       1.0    1.0  1.0      1.0          1  \n1      1       1.0    1.0  1.0      1.0          0  \n2      1       1.0    1.0  0.0      0.0          0  \n3      1       1.0    1.0  1.0      1.0          1  \n4      1       1.0    1.0  1.0      1.0          0  ",
      "text/html": "<div>\n<style scoped>\n    .dataframe tbody tr th:only-of-type {\n        vertical-align: middle;\n    }\n\n    .dataframe tbody tr th {\n        vertical-align: top;\n    }\n\n    .dataframe thead th {\n        text-align: right;\n    }\n</style>\n<table border=\"1\" class=\"dataframe\">\n  <thead>\n    <tr style=\"text-align: right;\">\n      <th></th>\n      <th>ceb</th>\n      <th>age</th>\n      <th>educ</th>\n      <th>religion</th>\n      <th>idlnchld</th>\n      <th>knowmeth</th>\n      <th>usemeth</th>\n      <th>agefm</th>\n      <th>heduc</th>\n      <th>urban</th>\n      <th>electric</th>\n      <th>radio</th>\n      <th>tv</th>\n      <th>bicycle</th>\n      <th>nevermarr</th>\n    </tr>\n  </thead>\n  <tbody>\n    <tr>\n      <th>0</th>\n      <td>0</td>\n      <td>18</td>\n      <td>10</td>\n      <td>catholic</td>\n      <td>4.0</td>\n      <td>1.0</td>\n      <td>1.0</td>\n      <td>0.0</td>\n      <td>-1.0</td>\n      <td>1</td>\n      <td>1.0</td>\n      <td>1.0</td>\n      <td>1.0</td>\n      <td>1.0</td>\n      <td>1</td>\n    </tr>\n    <tr>\n      <th>1</th>\n      <td>2</td>\n      <td>43</td>\n      <td>11</td>\n      <td>protestant</td>\n      <td>2.0</td>\n      <td>1.0</td>\n      <td>1.0</td>\n      <td>20.0</td>\n      <td>14.0</td>\n      <td>1</td>\n      <td>1.0</td>\n      <td>1.0</td>\n      <td>1.0</td>\n      <td>1.0</td>\n      <td>0</td>\n    </tr>\n    <tr>\n      <th>2</th>\n      <td>0</td>\n      <td>49</td>\n      <td>4</td>\n      <td>spirit</td>\n      <td>4.0</td>\n      <td>1.0</td>\n      <td>0.0</td>\n      <td>22.0</td>\n      <td>1.0</td>\n      <td>1</td>\n      <td>1.0</td>\n      <td>1.0</td>\n      <td>0.0</td>\n      <td>0.0</td>\n      <td>0</td>\n    </tr>\n    <tr>\n      <th>3</th>\n      <td>0</td>\n      <td>24</td>\n      <td>12</td>\n      <td>other</td>\n      <td>2.0</td>\n      <td>1.0</td>\n      <td>0.0</td>\n      <td>0.0</td>\n      <td>-1.0</td>\n      <td>1</td>\n      <td>1.0</td>\n      <td>1.0</td>\n      <td>1.0</td>\n      <td>1.0</td>\n      <td>1</td>\n    </tr>\n    <tr>\n      <th>4</th>\n      <td>3</td>\n      <td>32</td>\n      <td>13</td>\n      <td>other</td>\n      <td>3.0</td>\n      <td>1.0</td>\n      <td>1.0</td>\n      <td>24.0</td>\n      <td>12.0</td>\n      <td>1</td>\n      <td>1.0</td>\n      <td>1.0</td>\n      <td>1.0</td>\n      <td>1.0</td>\n      <td>0</td>\n    </tr>\n  </tbody>\n</table>\n</div>"
     },
     "execution_count": 115,
     "metadata": {},
     "output_type": "execute_result"
    }
   ],
   "source": [
    "data.head()"
   ],
   "metadata": {
    "collapsed": false,
    "pycharm": {
     "name": "#%%\n"
    }
   }
  },
  {
   "cell_type": "code",
   "execution_count": 116,
   "outputs": [
    {
     "data": {
      "text/plain": "123"
     },
     "execution_count": 116,
     "metadata": {},
     "output_type": "execute_result"
    }
   ],
   "source": [
    "data['heduc'].isna().sum()"
   ],
   "metadata": {
    "collapsed": false,
    "pycharm": {
     "name": "#%%\n"
    }
   }
  },
  {
   "cell_type": "code",
   "execution_count": 117,
   "outputs": [],
   "source": [
    "data['idlnchld_noans'] = pd.DataFrame([0 if item == 1 else 1 for item in data['idlnchld']])\n",
    "data['heduc_noans'] = pd.DataFrame([0 if item == 1 else 1 for item in data['heduc']])\n",
    "data['usemeth_noans'] = pd.DataFrame([0 if item == 1 else 1 for item in data['usemeth']])"
   ],
   "metadata": {
    "collapsed": false,
    "pycharm": {
     "name": "#%%\n"
    }
   }
  },
  {
   "cell_type": "code",
   "execution_count": 118,
   "outputs": [
    {
     "name": "stderr",
     "output_type": "stream",
     "text": [
      "<ipython-input-118-98a91d8cfed7>:1: SettingWithCopyWarning: \n",
      "A value is trying to be set on a copy of a slice from a DataFrame\n",
      "\n",
      "See the caveats in the documentation: https://pandas.pydata.org/pandas-docs/stable/user_guide/indexing.html#returning-a-view-versus-a-copy\n",
      "  data.idlnchld[data.idlnchld.isnull()] = -1\n",
      "<ipython-input-118-98a91d8cfed7>:2: SettingWithCopyWarning: \n",
      "A value is trying to be set on a copy of a slice from a DataFrame\n",
      "\n",
      "See the caveats in the documentation: https://pandas.pydata.org/pandas-docs/stable/user_guide/indexing.html#returning-a-view-versus-a-copy\n",
      "  data.heduc[data.heduc.isnull()] = -2\n",
      "<ipython-input-118-98a91d8cfed7>:3: SettingWithCopyWarning: \n",
      "A value is trying to be set on a copy of a slice from a DataFrame\n",
      "\n",
      "See the caveats in the documentation: https://pandas.pydata.org/pandas-docs/stable/user_guide/indexing.html#returning-a-view-versus-a-copy\n",
      "  data.usemeth[data.usemeth.isnull()] = -1\n"
     ]
    }
   ],
   "source": [
    "data.idlnchld[data.idlnchld.isnull()] = -1\n",
    "data.heduc[data.heduc.isnull()] = -2\n",
    "data.usemeth[data.usemeth.isnull()] = -1"
   ],
   "metadata": {
    "collapsed": false,
    "pycharm": {
     "name": "#%%\n"
    }
   }
  },
  {
   "cell_type": "code",
   "execution_count": 119,
   "outputs": [
    {
     "name": "stdout",
     "output_type": "stream",
     "text": [
      "<class 'pandas.core.frame.DataFrame'>\n",
      "RangeIndex: 4361 entries, 0 to 4360\n",
      "Data columns (total 18 columns):\n",
      " #   Column          Non-Null Count  Dtype  \n",
      "---  ------          --------------  -----  \n",
      " 0   ceb             4361 non-null   int64  \n",
      " 1   age             4361 non-null   int64  \n",
      " 2   educ            4361 non-null   int64  \n",
      " 3   religion        4361 non-null   object \n",
      " 4   idlnchld        4361 non-null   float64\n",
      " 5   knowmeth        4354 non-null   float64\n",
      " 6   usemeth         4361 non-null   float64\n",
      " 7   agefm           4361 non-null   float64\n",
      " 8   heduc           4361 non-null   float64\n",
      " 9   urban           4361 non-null   int64  \n",
      " 10  electric        4358 non-null   float64\n",
      " 11  radio           4359 non-null   float64\n",
      " 12  tv              4359 non-null   float64\n",
      " 13  bicycle         4358 non-null   float64\n",
      " 14  nevermarr       4361 non-null   int64  \n",
      " 15  idlnchld_noans  4361 non-null   int64  \n",
      " 16  heduc_noans     4361 non-null   int64  \n",
      " 17  usemeth_noans   4361 non-null   int64  \n",
      "dtypes: float64(9), int64(8), object(1)\n",
      "memory usage: 613.4+ KB\n"
     ]
    }
   ],
   "source": [
    "data.info()"
   ],
   "metadata": {
    "collapsed": false,
    "pycharm": {
     "name": "#%%\n"
    }
   }
  },
  {
   "cell_type": "code",
   "execution_count": 120,
   "outputs": [],
   "source": [
    "data.dropna(inplace=True)"
   ],
   "metadata": {
    "collapsed": false,
    "pycharm": {
     "name": "#%%\n"
    }
   }
  },
  {
   "cell_type": "code",
   "execution_count": 121,
   "outputs": [
    {
     "data": {
      "text/plain": "78264"
     },
     "execution_count": 121,
     "metadata": {},
     "output_type": "execute_result"
    }
   ],
   "source": [
    "len(data) * len(data.columns)"
   ],
   "metadata": {
    "collapsed": false,
    "pycharm": {
     "name": "#%%\n"
    }
   }
  },
  {
   "cell_type": "code",
   "execution_count": 122,
   "outputs": [
    {
     "data": {
      "text/plain": "   ceb  age  educ    religion  idlnchld  knowmeth  usemeth  agefm  heduc  \\\n0    0   18    10    catholic       4.0       1.0      1.0    0.0   -1.0   \n1    2   43    11  protestant       2.0       1.0      1.0   20.0   14.0   \n2    0   49     4      spirit       4.0       1.0      0.0   22.0    1.0   \n3    0   24    12       other       2.0       1.0      0.0    0.0   -1.0   \n4    3   32    13       other       3.0       1.0      1.0   24.0   12.0   \n\n   urban  electric  radio   tv  bicycle  nevermarr  idlnchld_noans  \\\n0      1       1.0    1.0  1.0      1.0          1               1   \n1      1       1.0    1.0  1.0      1.0          0               1   \n2      1       1.0    1.0  0.0      0.0          0               1   \n3      1       1.0    1.0  1.0      1.0          1               1   \n4      1       1.0    1.0  1.0      1.0          0               1   \n\n   heduc_noans  usemeth_noans  \n0            1              0  \n1            1              0  \n2            0              1  \n3            1              1  \n4            1              0  ",
      "text/html": "<div>\n<style scoped>\n    .dataframe tbody tr th:only-of-type {\n        vertical-align: middle;\n    }\n\n    .dataframe tbody tr th {\n        vertical-align: top;\n    }\n\n    .dataframe thead th {\n        text-align: right;\n    }\n</style>\n<table border=\"1\" class=\"dataframe\">\n  <thead>\n    <tr style=\"text-align: right;\">\n      <th></th>\n      <th>ceb</th>\n      <th>age</th>\n      <th>educ</th>\n      <th>religion</th>\n      <th>idlnchld</th>\n      <th>knowmeth</th>\n      <th>usemeth</th>\n      <th>agefm</th>\n      <th>heduc</th>\n      <th>urban</th>\n      <th>electric</th>\n      <th>radio</th>\n      <th>tv</th>\n      <th>bicycle</th>\n      <th>nevermarr</th>\n      <th>idlnchld_noans</th>\n      <th>heduc_noans</th>\n      <th>usemeth_noans</th>\n    </tr>\n  </thead>\n  <tbody>\n    <tr>\n      <th>0</th>\n      <td>0</td>\n      <td>18</td>\n      <td>10</td>\n      <td>catholic</td>\n      <td>4.0</td>\n      <td>1.0</td>\n      <td>1.0</td>\n      <td>0.0</td>\n      <td>-1.0</td>\n      <td>1</td>\n      <td>1.0</td>\n      <td>1.0</td>\n      <td>1.0</td>\n      <td>1.0</td>\n      <td>1</td>\n      <td>1</td>\n      <td>1</td>\n      <td>0</td>\n    </tr>\n    <tr>\n      <th>1</th>\n      <td>2</td>\n      <td>43</td>\n      <td>11</td>\n      <td>protestant</td>\n      <td>2.0</td>\n      <td>1.0</td>\n      <td>1.0</td>\n      <td>20.0</td>\n      <td>14.0</td>\n      <td>1</td>\n      <td>1.0</td>\n      <td>1.0</td>\n      <td>1.0</td>\n      <td>1.0</td>\n      <td>0</td>\n      <td>1</td>\n      <td>1</td>\n      <td>0</td>\n    </tr>\n    <tr>\n      <th>2</th>\n      <td>0</td>\n      <td>49</td>\n      <td>4</td>\n      <td>spirit</td>\n      <td>4.0</td>\n      <td>1.0</td>\n      <td>0.0</td>\n      <td>22.0</td>\n      <td>1.0</td>\n      <td>1</td>\n      <td>1.0</td>\n      <td>1.0</td>\n      <td>0.0</td>\n      <td>0.0</td>\n      <td>0</td>\n      <td>1</td>\n      <td>0</td>\n      <td>1</td>\n    </tr>\n    <tr>\n      <th>3</th>\n      <td>0</td>\n      <td>24</td>\n      <td>12</td>\n      <td>other</td>\n      <td>2.0</td>\n      <td>1.0</td>\n      <td>0.0</td>\n      <td>0.0</td>\n      <td>-1.0</td>\n      <td>1</td>\n      <td>1.0</td>\n      <td>1.0</td>\n      <td>1.0</td>\n      <td>1.0</td>\n      <td>1</td>\n      <td>1</td>\n      <td>1</td>\n      <td>1</td>\n    </tr>\n    <tr>\n      <th>4</th>\n      <td>3</td>\n      <td>32</td>\n      <td>13</td>\n      <td>other</td>\n      <td>3.0</td>\n      <td>1.0</td>\n      <td>1.0</td>\n      <td>24.0</td>\n      <td>12.0</td>\n      <td>1</td>\n      <td>1.0</td>\n      <td>1.0</td>\n      <td>1.0</td>\n      <td>1.0</td>\n      <td>0</td>\n      <td>1</td>\n      <td>1</td>\n      <td>0</td>\n    </tr>\n  </tbody>\n</table>\n</div>"
     },
     "execution_count": 122,
     "metadata": {},
     "output_type": "execute_result"
    }
   ],
   "source": [
    "data.head()"
   ],
   "metadata": {
    "collapsed": false,
    "pycharm": {
     "name": "#%%\n"
    }
   }
  },
  {
   "cell_type": "code",
   "execution_count": 126,
   "outputs": [],
   "source": [
    "m1 = smf.ols('ceb ~ ' + ' + '.join(data.columns[1:]), data=data)\n",
    "fitted = m1.fit()"
   ],
   "metadata": {
    "collapsed": false,
    "pycharm": {
     "name": "#%%\n"
    }
   }
  },
  {
   "cell_type": "code",
   "execution_count": 127,
   "outputs": [
    {
     "data": {
      "text/plain": "<class 'statsmodels.iolib.summary.Summary'>\n\"\"\"\n                            OLS Regression Results                            \n==============================================================================\nDep. Variable:                    ceb   R-squared:                       0.640\nModel:                            OLS   Adj. R-squared:                  0.638\nMethod:                 Least Squares   F-statistic:                     405.1\nDate:                Wed, 21 Apr 2021   Prob (F-statistic):               0.00\nTime:                        18:18:16   Log-Likelihood:                -7757.4\nNo. Observations:                4348   AIC:                         1.555e+04\nDf Residuals:                    4328   BIC:                         1.568e+04\nDf Model:                          19                                         \nCovariance Type:            nonrobust                                         \n==========================================================================================\n                             coef    std err          t      P>|t|      [0.025      0.975]\n------------------------------------------------------------------------------------------\nIntercept                 -0.2464      0.436     -0.565      0.572      -1.101       0.609\nreligion[T.other]         -0.0846      0.083     -1.015      0.310      -0.248       0.079\nreligion[T.protestant]    -0.0132      0.083     -0.159      0.874      -0.176       0.149\nreligion[T.spirit]        -0.0120      0.078     -0.154      0.878      -0.164       0.140\nage                        0.1724      0.003     52.641      0.000       0.166       0.179\neduc                      -0.0775      0.007    -10.535      0.000      -0.092      -0.063\nidlnchld                   0.0617      0.010      6.154      0.000       0.042       0.081\nknowmeth                   0.5240      0.122      4.293      0.000       0.285       0.763\nusemeth                   -0.1366      0.183     -0.747      0.455      -0.495       0.222\nagefm                     -0.0617      0.007     -9.351      0.000      -0.075      -0.049\nheduc                     -0.0394      0.008     -5.215      0.000      -0.054      -0.025\nurban                     -0.2226      0.047     -4.692      0.000      -0.316      -0.130\nelectric                  -0.2928      0.078     -3.775      0.000      -0.445      -0.141\nradio                     -0.0283      0.051     -0.551      0.582      -0.129       0.072\ntv                        -0.1713      0.093     -1.838      0.066      -0.354       0.011\nbicycle                    0.2149      0.051      4.255      0.000       0.116       0.314\nnevermarr                 -2.1409      0.147    -14.592      0.000      -2.429      -1.853\nidlnchld_noans            -0.3103      0.155     -2.002      0.045      -0.614      -0.006\nheduc_noans                0.3031      0.292      1.038      0.300      -0.270       0.876\nusemeth_noans             -0.7596      0.197     -3.858      0.000      -1.146      -0.374\n==============================================================================\nOmnibus:                      224.851   Durbin-Watson:                   1.883\nProb(Omnibus):                  0.000   Jarque-Bera (JB):              859.749\nSkew:                           0.023   Prob(JB):                    2.03e-187\nKurtosis:                       5.178   Cond. No.                         736.\n==============================================================================\n\nNotes:\n[1] Standard Errors assume that the covariance matrix of the errors is correctly specified.\n\"\"\"",
      "text/html": "<table class=\"simpletable\">\n<caption>OLS Regression Results</caption>\n<tr>\n  <th>Dep. Variable:</th>           <td>ceb</td>       <th>  R-squared:         </th> <td>   0.640</td> \n</tr>\n<tr>\n  <th>Model:</th>                   <td>OLS</td>       <th>  Adj. R-squared:    </th> <td>   0.638</td> \n</tr>\n<tr>\n  <th>Method:</th>             <td>Least Squares</td>  <th>  F-statistic:       </th> <td>   405.1</td> \n</tr>\n<tr>\n  <th>Date:</th>             <td>Wed, 21 Apr 2021</td> <th>  Prob (F-statistic):</th>  <td>  0.00</td>  \n</tr>\n<tr>\n  <th>Time:</th>                 <td>18:18:16</td>     <th>  Log-Likelihood:    </th> <td> -7757.4</td> \n</tr>\n<tr>\n  <th>No. Observations:</th>      <td>  4348</td>      <th>  AIC:               </th> <td>1.555e+04</td>\n</tr>\n<tr>\n  <th>Df Residuals:</th>          <td>  4328</td>      <th>  BIC:               </th> <td>1.568e+04</td>\n</tr>\n<tr>\n  <th>Df Model:</th>              <td>    19</td>      <th>                     </th>     <td> </td>    \n</tr>\n<tr>\n  <th>Covariance Type:</th>      <td>nonrobust</td>    <th>                     </th>     <td> </td>    \n</tr>\n</table>\n<table class=\"simpletable\">\n<tr>\n             <td></td>               <th>coef</th>     <th>std err</th>      <th>t</th>      <th>P>|t|</th>  <th>[0.025</th>    <th>0.975]</th>  \n</tr>\n<tr>\n  <th>Intercept</th>              <td>   -0.2464</td> <td>    0.436</td> <td>   -0.565</td> <td> 0.572</td> <td>   -1.101</td> <td>    0.609</td>\n</tr>\n<tr>\n  <th>religion[T.other]</th>      <td>   -0.0846</td> <td>    0.083</td> <td>   -1.015</td> <td> 0.310</td> <td>   -0.248</td> <td>    0.079</td>\n</tr>\n<tr>\n  <th>religion[T.protestant]</th> <td>   -0.0132</td> <td>    0.083</td> <td>   -0.159</td> <td> 0.874</td> <td>   -0.176</td> <td>    0.149</td>\n</tr>\n<tr>\n  <th>religion[T.spirit]</th>     <td>   -0.0120</td> <td>    0.078</td> <td>   -0.154</td> <td> 0.878</td> <td>   -0.164</td> <td>    0.140</td>\n</tr>\n<tr>\n  <th>age</th>                    <td>    0.1724</td> <td>    0.003</td> <td>   52.641</td> <td> 0.000</td> <td>    0.166</td> <td>    0.179</td>\n</tr>\n<tr>\n  <th>educ</th>                   <td>   -0.0775</td> <td>    0.007</td> <td>  -10.535</td> <td> 0.000</td> <td>   -0.092</td> <td>   -0.063</td>\n</tr>\n<tr>\n  <th>idlnchld</th>               <td>    0.0617</td> <td>    0.010</td> <td>    6.154</td> <td> 0.000</td> <td>    0.042</td> <td>    0.081</td>\n</tr>\n<tr>\n  <th>knowmeth</th>               <td>    0.5240</td> <td>    0.122</td> <td>    4.293</td> <td> 0.000</td> <td>    0.285</td> <td>    0.763</td>\n</tr>\n<tr>\n  <th>usemeth</th>                <td>   -0.1366</td> <td>    0.183</td> <td>   -0.747</td> <td> 0.455</td> <td>   -0.495</td> <td>    0.222</td>\n</tr>\n<tr>\n  <th>agefm</th>                  <td>   -0.0617</td> <td>    0.007</td> <td>   -9.351</td> <td> 0.000</td> <td>   -0.075</td> <td>   -0.049</td>\n</tr>\n<tr>\n  <th>heduc</th>                  <td>   -0.0394</td> <td>    0.008</td> <td>   -5.215</td> <td> 0.000</td> <td>   -0.054</td> <td>   -0.025</td>\n</tr>\n<tr>\n  <th>urban</th>                  <td>   -0.2226</td> <td>    0.047</td> <td>   -4.692</td> <td> 0.000</td> <td>   -0.316</td> <td>   -0.130</td>\n</tr>\n<tr>\n  <th>electric</th>               <td>   -0.2928</td> <td>    0.078</td> <td>   -3.775</td> <td> 0.000</td> <td>   -0.445</td> <td>   -0.141</td>\n</tr>\n<tr>\n  <th>radio</th>                  <td>   -0.0283</td> <td>    0.051</td> <td>   -0.551</td> <td> 0.582</td> <td>   -0.129</td> <td>    0.072</td>\n</tr>\n<tr>\n  <th>tv</th>                     <td>   -0.1713</td> <td>    0.093</td> <td>   -1.838</td> <td> 0.066</td> <td>   -0.354</td> <td>    0.011</td>\n</tr>\n<tr>\n  <th>bicycle</th>                <td>    0.2149</td> <td>    0.051</td> <td>    4.255</td> <td> 0.000</td> <td>    0.116</td> <td>    0.314</td>\n</tr>\n<tr>\n  <th>nevermarr</th>              <td>   -2.1409</td> <td>    0.147</td> <td>  -14.592</td> <td> 0.000</td> <td>   -2.429</td> <td>   -1.853</td>\n</tr>\n<tr>\n  <th>idlnchld_noans</th>         <td>   -0.3103</td> <td>    0.155</td> <td>   -2.002</td> <td> 0.045</td> <td>   -0.614</td> <td>   -0.006</td>\n</tr>\n<tr>\n  <th>heduc_noans</th>            <td>    0.3031</td> <td>    0.292</td> <td>    1.038</td> <td> 0.300</td> <td>   -0.270</td> <td>    0.876</td>\n</tr>\n<tr>\n  <th>usemeth_noans</th>          <td>   -0.7596</td> <td>    0.197</td> <td>   -3.858</td> <td> 0.000</td> <td>   -1.146</td> <td>   -0.374</td>\n</tr>\n</table>\n<table class=\"simpletable\">\n<tr>\n  <th>Omnibus:</th>       <td>224.851</td> <th>  Durbin-Watson:     </th> <td>   1.883</td> \n</tr>\n<tr>\n  <th>Prob(Omnibus):</th> <td> 0.000</td>  <th>  Jarque-Bera (JB):  </th> <td> 859.749</td> \n</tr>\n<tr>\n  <th>Skew:</th>          <td> 0.023</td>  <th>  Prob(JB):          </th> <td>2.03e-187</td>\n</tr>\n<tr>\n  <th>Kurtosis:</th>      <td> 5.178</td>  <th>  Cond. No.          </th> <td>    736.</td> \n</tr>\n</table><br/><br/>Notes:<br/>[1] Standard Errors assume that the covariance matrix of the errors is correctly specified."
     },
     "execution_count": 127,
     "metadata": {},
     "output_type": "execute_result"
    }
   ],
   "source": [
    "fitted.summary()"
   ],
   "metadata": {
    "collapsed": false,
    "pycharm": {
     "name": "#%%\n"
    }
   }
  },
  {
   "cell_type": "markdown",
   "source": [
    "Используем критерий Бройша-Пагана для проверки гомоскедастичности ошибок:"
   ],
   "metadata": {
    "collapsed": false,
    "pycharm": {
     "name": "#%% md\n"
    }
   }
  },
  {
   "cell_type": "code",
   "execution_count": 128,
   "outputs": [
    {
     "name": "stdout",
     "output_type": "stream",
     "text": [
      "Breusch-Pagan test: p=0.000000\n"
     ]
    }
   ],
   "source": [
    "print('Breusch-Pagan test: p=%f' % diagnostic.het_breuschpagan(fitted.resid, fitted.model.exog)[1])"
   ],
   "metadata": {
    "collapsed": false,
    "pycharm": {
     "name": "#%%\n"
    }
   }
  },
  {
   "cell_type": "code",
   "execution_count": 129,
   "outputs": [
    {
     "name": "stdout",
     "output_type": "stream",
     "text": [
      "                            OLS Regression Results                            \n",
      "==============================================================================\n",
      "Dep. Variable:                    ceb   R-squared:                       0.640\n",
      "Model:                            OLS   Adj. R-squared:                  0.638\n",
      "Method:                 Least Squares   F-statistic:                     335.3\n",
      "Date:                Wed, 21 Apr 2021   Prob (F-statistic):               0.00\n",
      "Time:                        18:20:36   Log-Likelihood:                -7757.4\n",
      "No. Observations:                4348   AIC:                         1.555e+04\n",
      "Df Residuals:                    4328   BIC:                         1.568e+04\n",
      "Df Model:                          19                                         \n",
      "Covariance Type:                  HC1                                         \n",
      "==========================================================================================\n",
      "                             coef    std err          z      P>|z|      [0.025      0.975]\n",
      "------------------------------------------------------------------------------------------\n",
      "Intercept                 -0.2464      0.573     -0.430      0.667      -1.369       0.876\n",
      "religion[T.other]         -0.0846      0.078     -1.083      0.279      -0.238       0.068\n",
      "religion[T.protestant]    -0.0132      0.078     -0.169      0.866      -0.166       0.140\n",
      "religion[T.spirit]        -0.0120      0.072     -0.167      0.867      -0.152       0.128\n",
      "age                        0.1724      0.004     38.835      0.000       0.164       0.181\n",
      "educ                      -0.0775      0.007    -10.579      0.000      -0.092      -0.063\n",
      "idlnchld                   0.0617      0.014      4.371      0.000       0.034       0.089\n",
      "knowmeth                   0.5240      0.172      3.053      0.002       0.188       0.860\n",
      "usemeth                   -0.1366      0.191     -0.714      0.475      -0.512       0.238\n",
      "agefm                     -0.0617      0.010     -6.317      0.000      -0.081      -0.043\n",
      "heduc                     -0.0394      0.008     -4.637      0.000      -0.056      -0.023\n",
      "urban                     -0.2226      0.046     -4.822      0.000      -0.313      -0.132\n",
      "electric                  -0.2928      0.073     -3.998      0.000      -0.436      -0.149\n",
      "radio                     -0.0283      0.053     -0.533      0.594      -0.132       0.076\n",
      "tv                        -0.1713      0.083     -2.064      0.039      -0.334      -0.009\n",
      "bicycle                    0.2149      0.049      4.384      0.000       0.119       0.311\n",
      "nevermarr                 -2.1409      0.201    -10.628      0.000      -2.536      -1.746\n",
      "idlnchld_noans            -0.3103      0.111     -2.787      0.005      -0.529      -0.092\n",
      "heduc_noans                0.3031      0.460      0.659      0.510      -0.598       1.205\n",
      "usemeth_noans             -0.7596      0.210     -3.616      0.000      -1.171      -0.348\n",
      "==============================================================================\n",
      "Omnibus:                      224.851   Durbin-Watson:                   1.883\n",
      "Prob(Omnibus):                  0.000   Jarque-Bera (JB):              859.749\n",
      "Skew:                           0.023   Prob(JB):                    2.03e-187\n",
      "Kurtosis:                       5.178   Cond. No.                         736.\n",
      "==============================================================================\n",
      "\n",
      "Notes:\n",
      "[1] Standard Errors are heteroscedasticity robust (HC1)\n"
     ]
    }
   ],
   "source": [
    "m2 = smf.ols('ceb ~ ' + ' + '.join(data.columns[1:]), data=data)\n",
    "fitted = m2.fit(cov_type='HC1')\n",
    "print(fitted.summary())"
   ],
   "metadata": {
    "collapsed": false,
    "pycharm": {
     "name": "#%%\n"
    }
   }
  },
  {
   "cell_type": "code",
   "execution_count": 130,
   "outputs": [
    {
     "name": "stdout",
     "output_type": "stream",
     "text": [
      "                            OLS Regression Results                            \n",
      "==============================================================================\n",
      "Dep. Variable:                    ceb   R-squared:                       0.640\n",
      "Model:                            OLS   Adj. R-squared:                  0.638\n",
      "Method:                 Least Squares   F-statistic:                     549.2\n",
      "Date:                Wed, 21 Apr 2021   Prob (F-statistic):               0.00\n",
      "Time:                        18:21:43   Log-Likelihood:                -7760.4\n",
      "No. Observations:                4348   AIC:                         1.555e+04\n",
      "Df Residuals:                    4333   BIC:                         1.565e+04\n",
      "Df Model:                          14                                         \n",
      "Covariance Type:            nonrobust                                         \n",
      "==================================================================================\n",
      "                     coef    std err          t      P>|t|      [0.025      0.975]\n",
      "----------------------------------------------------------------------------------\n",
      "Intercept         -0.2824      0.429     -0.658      0.511      -1.124       0.560\n",
      "age                0.1722      0.003     52.961      0.000       0.166       0.179\n",
      "educ              -0.0785      0.007    -11.082      0.000      -0.092      -0.065\n",
      "idlnchld           0.0629      0.010      6.284      0.000       0.043       0.083\n",
      "knowmeth           0.5295      0.122      4.347      0.000       0.291       0.768\n",
      "usemeth           -0.1410      0.183     -0.771      0.441      -0.499       0.217\n",
      "agefm             -0.0619      0.007     -9.383      0.000      -0.075      -0.049\n",
      "heduc             -0.0417      0.007     -5.571      0.000      -0.056      -0.027\n",
      "urban             -0.2297      0.047     -4.884      0.000      -0.322      -0.138\n",
      "electric          -0.3550      0.070     -5.054      0.000      -0.493      -0.217\n",
      "bicycle            0.2040      0.050      4.117      0.000       0.107       0.301\n",
      "nevermarr         -2.1516      0.147    -14.675      0.000      -2.439      -1.864\n",
      "idlnchld_noans    -0.3061      0.155     -1.976      0.048      -0.610      -0.002\n",
      "heduc_noans        0.3037      0.292      1.040      0.298      -0.269       0.876\n",
      "usemeth_noans     -0.7684      0.197     -3.905      0.000      -1.154      -0.383\n",
      "==============================================================================\n",
      "Omnibus:                      224.576   Durbin-Watson:                   1.881\n",
      "Prob(Omnibus):                  0.000   Jarque-Bera (JB):              857.509\n",
      "Skew:                           0.025   Prob(JB):                    6.23e-187\n",
      "Kurtosis:                       5.175   Cond. No.                         730.\n",
      "==============================================================================\n",
      "\n",
      "Notes:\n",
      "[1] Standard Errors assume that the covariance matrix of the errors is correctly specified.\n"
     ]
    }
   ],
   "source": [
    "m3 = smf.ols('ceb ~ age + educ + idlnchld + knowmeth + usemeth + agefm + heduc + urban + electric + bicycle + nevermarr '\n",
    "             '+ idlnchld_noans + heduc_noans + usemeth_noans', data=data)\n",
    "fitted = m3.fit()\n",
    "print(fitted.summary())"
   ],
   "metadata": {
    "collapsed": false,
    "pycharm": {
     "name": "#%%\n"
    }
   }
  },
  {
   "cell_type": "code",
   "execution_count": 131,
   "outputs": [
    {
     "name": "stdout",
     "output_type": "stream",
     "text": [
      "Breusch-Pagan test: p=0.000000\n"
     ]
    }
   ],
   "source": [
    "print('Breusch-Pagan test: p=%f' % sms.het_breuschpagan(fitted.resid, fitted.model.exog)[1])"
   ],
   "metadata": {
    "collapsed": false,
    "pycharm": {
     "name": "#%%\n"
    }
   }
  },
  {
   "cell_type": "code",
   "execution_count": 132,
   "outputs": [
    {
     "name": "stdout",
     "output_type": "stream",
     "text": [
      "                            OLS Regression Results                            \n",
      "==============================================================================\n",
      "Dep. Variable:                    ceb   R-squared:                       0.640\n",
      "Model:                            OLS   Adj. R-squared:                  0.638\n",
      "Method:                 Least Squares   F-statistic:                     449.7\n",
      "Date:                Wed, 21 Apr 2021   Prob (F-statistic):               0.00\n",
      "Time:                        18:22:34   Log-Likelihood:                -7760.4\n",
      "No. Observations:                4348   AIC:                         1.555e+04\n",
      "Df Residuals:                    4333   BIC:                         1.565e+04\n",
      "Df Model:                          14                                         \n",
      "Covariance Type:                  HC1                                         \n",
      "==================================================================================\n",
      "                     coef    std err          z      P>|z|      [0.025      0.975]\n",
      "----------------------------------------------------------------------------------\n",
      "Intercept         -0.2824      0.567     -0.498      0.619      -1.395       0.830\n",
      "age                0.1722      0.004     38.913      0.000       0.164       0.181\n",
      "educ              -0.0785      0.007    -11.049      0.000      -0.092      -0.065\n",
      "idlnchld           0.0629      0.014      4.457      0.000       0.035       0.091\n",
      "knowmeth           0.5295      0.171      3.092      0.002       0.194       0.865\n",
      "usemeth           -0.1410      0.190     -0.740      0.459      -0.514       0.232\n",
      "agefm             -0.0619      0.010     -6.341      0.000      -0.081      -0.043\n",
      "heduc             -0.0417      0.008     -4.960      0.000      -0.058      -0.025\n",
      "urban             -0.2297      0.046     -5.008      0.000      -0.320      -0.140\n",
      "electric          -0.3550      0.065     -5.486      0.000      -0.482      -0.228\n",
      "bicycle            0.2040      0.048      4.212      0.000       0.109       0.299\n",
      "nevermarr         -2.1516      0.201    -10.702      0.000      -2.546      -1.758\n",
      "idlnchld_noans    -0.3061      0.111     -2.749      0.006      -0.524      -0.088\n",
      "heduc_noans        0.3037      0.458      0.663      0.507      -0.594       1.201\n",
      "usemeth_noans     -0.7684      0.209     -3.671      0.000      -1.179      -0.358\n",
      "==============================================================================\n",
      "Omnibus:                      224.576   Durbin-Watson:                   1.881\n",
      "Prob(Omnibus):                  0.000   Jarque-Bera (JB):              857.509\n",
      "Skew:                           0.025   Prob(JB):                    6.23e-187\n",
      "Kurtosis:                       5.175   Cond. No.                         730.\n",
      "==============================================================================\n",
      "\n",
      "Notes:\n",
      "[1] Standard Errors are heteroscedasticity robust (HC1)\n"
     ]
    }
   ],
   "source": [
    "m4 = smf.ols('ceb ~ age + educ + idlnchld + knowmeth + usemeth + agefm + heduc + urban + electric + bicycle + nevermarr '\n",
    "             '+ idlnchld_noans + heduc_noans + usemeth_noans', data=data)\n",
    "fitted = m4.fit(cov_type='HC1')\n",
    "print(fitted.summary())"
   ],
   "metadata": {
    "collapsed": false,
    "pycharm": {
     "name": "#%%\n"
    }
   }
  },
  {
   "cell_type": "code",
   "execution_count": 133,
   "outputs": [
    {
     "name": "stdout",
     "output_type": "stream",
     "text": [
      "F=1.197092, p=0.307838, k1=5.000000\n"
     ]
    }
   ],
   "source": [
    "print('F=%f, p=%f, k1=%f' % m2.fit().compare_f_test(m4.fit()))"
   ],
   "metadata": {
    "collapsed": false,
    "pycharm": {
     "name": "#%%\n"
    }
   }
  },
  {
   "cell_type": "code",
   "execution_count": 136,
   "outputs": [
    {
     "name": "stdout",
     "output_type": "stream",
     "text": [
      "                            OLS Regression Results                            \n",
      "==============================================================================\n",
      "Dep. Variable:                    ceb   R-squared:                       0.625\n",
      "Model:                            OLS   Adj. R-squared:                  0.624\n",
      "Method:                 Least Squares   F-statistic:                     391.1\n",
      "Date:                Wed, 21 Apr 2021   Prob (F-statistic):               0.00\n",
      "Time:                        18:26:51   Log-Likelihood:                -7844.3\n",
      "No. Observations:                4348   AIC:                         1.571e+04\n",
      "Df Residuals:                    4335   BIC:                         1.580e+04\n",
      "Df Model:                          12                                         \n",
      "Covariance Type:                  HC1                                         \n",
      "==================================================================================\n",
      "                     coef    std err          z      P>|z|      [0.025      0.975]\n",
      "----------------------------------------------------------------------------------\n",
      "Intercept         -1.3436      0.531     -2.530      0.011      -2.384      -0.303\n",
      "age                0.1791      0.004     41.548      0.000       0.171       0.188\n",
      "educ              -0.0613      0.007     -8.508      0.000      -0.075      -0.047\n",
      "idlnchld           0.0594      0.014      4.099      0.000       0.031       0.088\n",
      "knowmeth           0.8374      0.171      4.894      0.000       0.502       1.173\n",
      "agefm             -0.0659      0.010     -6.615      0.000      -0.085      -0.046\n",
      "heduc             -0.0383      0.009     -4.437      0.000      -0.055      -0.021\n",
      "urban             -0.1981      0.047     -4.238      0.000      -0.290      -0.107\n",
      "electric          -0.3514      0.066     -5.300      0.000      -0.481      -0.221\n",
      "bicycle            0.1978      0.049      4.037      0.000       0.102       0.294\n",
      "nevermarr         -2.2699      0.204    -11.110      0.000      -2.670      -1.869\n",
      "idlnchld_noans    -0.2382      0.112     -2.119      0.034      -0.459      -0.018\n",
      "heduc_noans        0.4007      0.477      0.839      0.401      -0.535       1.337\n",
      "==============================================================================\n",
      "Omnibus:                      242.025   Durbin-Watson:                   1.904\n",
      "Prob(Omnibus):                  0.000   Jarque-Bera (JB):              909.531\n",
      "Skew:                          -0.131   Prob(JB):                    3.15e-198\n",
      "Kurtosis:                       5.225   Cond. No.                         659.\n",
      "==============================================================================\n",
      "\n",
      "Notes:\n",
      "[1] Standard Errors are heteroscedasticity robust (HC1)\n"
     ]
    }
   ],
   "source": [
    "m5 = smf.ols('ceb ~ age + educ + idlnchld + knowmeth + agefm + heduc + urban + electric + bicycle + nevermarr '\n",
    "             '+ idlnchld_noans + heduc_noans', data=data)\n",
    "fitted = m5.fit(cov_type='HC1')\n",
    "print(fitted.summary())"
   ],
   "metadata": {
    "collapsed": false,
    "pycharm": {
     "name": "#%%\n"
    }
   }
  },
  {
   "cell_type": "code",
   "execution_count": 135,
   "outputs": [
    {
     "name": "stdout",
     "output_type": "stream",
     "text": [
      "F=85.265624, p=0.0000000000000000000000000000000000004783, k1=2.000000\n"
     ]
    }
   ],
   "source": [
    "print('F=%f, p=%.40f, k1=%f' % m4.fit().compare_f_test(m5.fit()))"
   ],
   "metadata": {
    "collapsed": false,
    "pycharm": {
     "name": "#%%\n"
    }
   }
  }
 ],
 "metadata": {
  "kernelspec": {
   "display_name": "Python 3",
   "language": "python",
   "name": "python3"
  },
  "language_info": {
   "codemirror_mode": {
    "name": "ipython",
    "version": 2
   },
   "file_extension": ".py",
   "mimetype": "text/x-python",
   "name": "python",
   "nbconvert_exporter": "python",
   "pygments_lexer": "ipython2",
   "version": "2.7.6"
  }
 },
 "nbformat": 4,
 "nbformat_minor": 0
}