{
 "cells": [
  {
   "cell_type": "code",
   "execution_count": 12,
   "metadata": {
    "collapsed": true
   },
   "outputs": [],
   "source": [
    "import numpy as np\n",
    "import pandas as pd\n",
    "import scipy\n",
    "from scipy import stats\n",
    "from statsmodels.stats.multitest import multipletests"
   ]
  },
  {
   "cell_type": "code",
   "execution_count": 3,
   "outputs": [],
   "source": [
    "data = pd.read_csv('AUCs.txt', sep='\\t')"
   ],
   "metadata": {
    "collapsed": false,
    "pycharm": {
     "name": "#%%\n"
    }
   }
  },
  {
   "cell_type": "code",
   "execution_count": 4,
   "outputs": [
    {
     "data": {
      "text/plain": "                Unnamed: 0   C4.5  C4.5+m  C4.5+cf  C4.5+m+cf\n0           adult (sample)  0.763   0.768    0.771      0.798\n1            breast cancer  0.599   0.591    0.590      0.569\n2  breast cancer wisconsin  0.954   0.971    0.968      0.967\n3                      cmc  0.628   0.661    0.654      0.657\n4               ionosphere  0.882   0.888    0.886      0.898",
      "text/html": "<div>\n<style scoped>\n    .dataframe tbody tr th:only-of-type {\n        vertical-align: middle;\n    }\n\n    .dataframe tbody tr th {\n        vertical-align: top;\n    }\n\n    .dataframe thead th {\n        text-align: right;\n    }\n</style>\n<table border=\"1\" class=\"dataframe\">\n  <thead>\n    <tr style=\"text-align: right;\">\n      <th></th>\n      <th>Unnamed: 0</th>\n      <th>C4.5</th>\n      <th>C4.5+m</th>\n      <th>C4.5+cf</th>\n      <th>C4.5+m+cf</th>\n    </tr>\n  </thead>\n  <tbody>\n    <tr>\n      <th>0</th>\n      <td>adult (sample)</td>\n      <td>0.763</td>\n      <td>0.768</td>\n      <td>0.771</td>\n      <td>0.798</td>\n    </tr>\n    <tr>\n      <th>1</th>\n      <td>breast cancer</td>\n      <td>0.599</td>\n      <td>0.591</td>\n      <td>0.590</td>\n      <td>0.569</td>\n    </tr>\n    <tr>\n      <th>2</th>\n      <td>breast cancer wisconsin</td>\n      <td>0.954</td>\n      <td>0.971</td>\n      <td>0.968</td>\n      <td>0.967</td>\n    </tr>\n    <tr>\n      <th>3</th>\n      <td>cmc</td>\n      <td>0.628</td>\n      <td>0.661</td>\n      <td>0.654</td>\n      <td>0.657</td>\n    </tr>\n    <tr>\n      <th>4</th>\n      <td>ionosphere</td>\n      <td>0.882</td>\n      <td>0.888</td>\n      <td>0.886</td>\n      <td>0.898</td>\n    </tr>\n  </tbody>\n</table>\n</div>"
     },
     "execution_count": 4,
     "metadata": {},
     "output_type": "execute_result"
    }
   ],
   "source": [
    "data.head()"
   ],
   "metadata": {
    "collapsed": false,
    "pycharm": {
     "name": "#%%\n"
    }
   }
  },
  {
   "cell_type": "code",
   "execution_count": 8,
   "outputs": [
    {
     "data": {
      "text/plain": "array(['C4.5', 'C4.5+m', 'C4.5+cf', 'C4.5+m+cf'], dtype=object)"
     },
     "execution_count": 8,
     "metadata": {},
     "output_type": "execute_result"
    }
   ],
   "source": [
    "columns = data.columns.values[1:]\n",
    "columns"
   ],
   "metadata": {
    "collapsed": false,
    "pycharm": {
     "name": "#%%\n"
    }
   }
  },
  {
   "cell_type": "code",
   "execution_count": 10,
   "outputs": [
    {
     "name": "stderr",
     "output_type": "stream",
     "text": [
      "c:\\my files\\python\\coursera\\lib\\site-packages\\scipy\\stats\\morestats.py:2967: UserWarning: Exact p-value calculation does not work if there are ties. Switching to normal approximation.\n",
      "  warnings.warn(\"Exact p-value calculation does not work if there are \"\n"
     ]
    }
   ],
   "source": [
    "p_values = []\n",
    "for i in range(4):\n",
    "    for j in range(4):\n",
    "        if i < j:\n",
    "            p_values.append(stats.wilcoxon(data[columns[i]], data[columns[j]])[1])"
   ],
   "metadata": {
    "collapsed": false,
    "pycharm": {
     "name": "#%%\n"
    }
   }
  },
  {
   "cell_type": "code",
   "execution_count": 15,
   "outputs": [
    {
     "data": {
      "text/plain": "[0.01075713311978963,\n 0.861262330095348,\n 0.015874359307532084,\n 0.05432871367198416,\n 0.3278256758446406,\n 0.025313519968766574]"
     },
     "execution_count": 15,
     "metadata": {},
     "output_type": "execute_result"
    }
   ],
   "source": [
    "p_values"
   ],
   "metadata": {
    "collapsed": false,
    "pycharm": {
     "name": "#%%\n"
    }
   }
  },
  {
   "cell_type": "code",
   "execution_count": null,
   "outputs": [],
   "source": [
    "reject, p_corrected, a1, a2 = multipletests(p_values,\n",
    "                                            alpha = 0.05,\n",
    "                                            method = 'holm')"
   ],
   "metadata": {
    "collapsed": false,
    "pycharm": {
     "name": "#%%\n"
    }
   }
  },
  {
   "cell_type": "code",
   "execution_count": 14,
   "outputs": [
    {
     "data": {
      "text/plain": "array([0.0645428 , 0.86126233, 0.0793718 , 0.16298614, 0.65565135,\n       0.10125408])"
     },
     "execution_count": 14,
     "metadata": {},
     "output_type": "execute_result"
    }
   ],
   "source": [
    "p_corrected"
   ],
   "metadata": {
    "collapsed": false,
    "pycharm": {
     "name": "#%%\n"
    }
   }
  },
  {
   "cell_type": "code",
   "execution_count": 17,
   "outputs": [],
   "source": [
    "reject, p_corrected, a1, a2 = multipletests(p_values,\n",
    "                                            alpha = 0.05,\n",
    "                                            method = 'fdr_bh')"
   ],
   "metadata": {
    "collapsed": false,
    "pycharm": {
     "name": "#%%\n"
    }
   }
  },
  {
   "cell_type": "code",
   "execution_count": 18,
   "outputs": [
    {
     "data": {
      "text/plain": "array([0.04762308, 0.86126233, 0.04762308, 0.08149307, 0.39339081,\n       0.05062704])"
     },
     "execution_count": 18,
     "metadata": {},
     "output_type": "execute_result"
    }
   ],
   "source": [
    "p_corrected"
   ],
   "metadata": {
    "collapsed": false,
    "pycharm": {
     "name": "#%%\n"
    }
   }
  }
 ],
 "metadata": {
  "kernelspec": {
   "display_name": "Python 3",
   "language": "python",
   "name": "python3"
  },
  "language_info": {
   "codemirror_mode": {
    "name": "ipython",
    "version": 2
   },
   "file_extension": ".py",
   "mimetype": "text/x-python",
   "name": "python",
   "nbconvert_exporter": "python",
   "pygments_lexer": "ipython2",
   "version": "2.7.6"
  }
 },
 "nbformat": 4,
 "nbformat_minor": 0
}