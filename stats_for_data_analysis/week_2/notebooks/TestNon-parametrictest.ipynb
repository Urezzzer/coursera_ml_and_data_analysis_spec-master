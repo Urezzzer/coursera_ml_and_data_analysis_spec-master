{
 "cells": [
  {
   "cell_type": "code",
   "execution_count": 34,
   "metadata": {
    "collapsed": true
   },
   "outputs": [
    {
     "name": "stdout",
     "output_type": "stream",
     "text": [
      "Populating the interactive namespace from numpy and matplotlib\n"
     ]
    },
    {
     "name": "stderr",
     "output_type": "stream",
     "text": [
      "c:\\my files\\python\\pythonproject\\lib\\site-packages\\IPython\\core\\magics\\pylab.py:159: UserWarning: pylab import has clobbered these variables: ['plt']\n",
      "`%matplotlib` prevents importing * from pylab and numpy\n",
      "  warn(\"pylab import has clobbered these variables: %s\"  % clobbered +\n"
     ]
    }
   ],
   "source": [
    "import itertools\n",
    "import pandas as pd\n",
    "from matplotlib import pylab\n",
    "from scipy.stats import stats, probplot, wilcoxon, mannwhitneyu\n",
    "from sklearn.ensemble import RandomForestRegressor\n",
    "from sklearn.linear_model import LinearRegression\n",
    "from sklearn.model_selection import train_test_split\n",
    "import matplotlib as plt\n",
    "import scipy\n",
    "import numpy as np\n",
    "from statsmodels.stats.weightstats import *\n",
    "%pylab inline"
   ]
  },
  {
   "cell_type": "code",
   "execution_count": 7,
   "outputs": [],
   "source": [
    "data = pd.read_csv('challenger.txt', sep='\\t')"
   ],
   "metadata": {
    "collapsed": false,
    "pycharm": {
     "name": "#%%\n"
    }
   }
  },
  {
   "cell_type": "code",
   "execution_count": 8,
   "outputs": [
    {
     "data": {
      "text/plain": "  Unnamed: 0  Temperature  Incident\n0   Apr12.81         18.9         0\n1   Nov12.81         21.1         1\n2   Mar22.82         20.6         0\n3   Nov11.82         20.0         0\n4   Apr04.83         19.4         0",
      "text/html": "<div>\n<style scoped>\n    .dataframe tbody tr th:only-of-type {\n        vertical-align: middle;\n    }\n\n    .dataframe tbody tr th {\n        vertical-align: top;\n    }\n\n    .dataframe thead th {\n        text-align: right;\n    }\n</style>\n<table border=\"1\" class=\"dataframe\">\n  <thead>\n    <tr style=\"text-align: right;\">\n      <th></th>\n      <th>Unnamed: 0</th>\n      <th>Temperature</th>\n      <th>Incident</th>\n    </tr>\n  </thead>\n  <tbody>\n    <tr>\n      <th>0</th>\n      <td>Apr12.81</td>\n      <td>18.9</td>\n      <td>0</td>\n    </tr>\n    <tr>\n      <th>1</th>\n      <td>Nov12.81</td>\n      <td>21.1</td>\n      <td>1</td>\n    </tr>\n    <tr>\n      <th>2</th>\n      <td>Mar22.82</td>\n      <td>20.6</td>\n      <td>0</td>\n    </tr>\n    <tr>\n      <th>3</th>\n      <td>Nov11.82</td>\n      <td>20.0</td>\n      <td>0</td>\n    </tr>\n    <tr>\n      <th>4</th>\n      <td>Apr04.83</td>\n      <td>19.4</td>\n      <td>0</td>\n    </tr>\n  </tbody>\n</table>\n</div>"
     },
     "execution_count": 8,
     "metadata": {},
     "output_type": "execute_result"
    }
   ],
   "source": [
    "data.head()"
   ],
   "metadata": {
    "collapsed": false,
    "pycharm": {
     "name": "#%%\n"
    }
   }
  },
  {
   "cell_type": "code",
   "execution_count": 9,
   "outputs": [
    {
     "data": {
      "text/plain": "       Temperature   Incident\ncount    23.000000  23.000000\nmean     20.860870   0.304348\nstd       3.919501   0.470472\nmin      11.700000   0.000000\n25%      19.400000   0.000000\n50%      21.100000   0.000000\n75%      23.900000   1.000000\nmax      27.200000   1.000000",
      "text/html": "<div>\n<style scoped>\n    .dataframe tbody tr th:only-of-type {\n        vertical-align: middle;\n    }\n\n    .dataframe tbody tr th {\n        vertical-align: top;\n    }\n\n    .dataframe thead th {\n        text-align: right;\n    }\n</style>\n<table border=\"1\" class=\"dataframe\">\n  <thead>\n    <tr style=\"text-align: right;\">\n      <th></th>\n      <th>Temperature</th>\n      <th>Incident</th>\n    </tr>\n  </thead>\n  <tbody>\n    <tr>\n      <th>count</th>\n      <td>23.000000</td>\n      <td>23.000000</td>\n    </tr>\n    <tr>\n      <th>mean</th>\n      <td>20.860870</td>\n      <td>0.304348</td>\n    </tr>\n    <tr>\n      <th>std</th>\n      <td>3.919501</td>\n      <td>0.470472</td>\n    </tr>\n    <tr>\n      <th>min</th>\n      <td>11.700000</td>\n      <td>0.000000</td>\n    </tr>\n    <tr>\n      <th>25%</th>\n      <td>19.400000</td>\n      <td>0.000000</td>\n    </tr>\n    <tr>\n      <th>50%</th>\n      <td>21.100000</td>\n      <td>0.000000</td>\n    </tr>\n    <tr>\n      <th>75%</th>\n      <td>23.900000</td>\n      <td>1.000000</td>\n    </tr>\n    <tr>\n      <th>max</th>\n      <td>27.200000</td>\n      <td>1.000000</td>\n    </tr>\n  </tbody>\n</table>\n</div>"
     },
     "execution_count": 9,
     "metadata": {},
     "output_type": "execute_result"
    }
   ],
   "source": [
    "data.describe()"
   ],
   "metadata": {
    "collapsed": false,
    "pycharm": {
     "name": "#%%\n"
    }
   }
  },
  {
   "cell_type": "code",
   "execution_count": 10,
   "outputs": [
    {
     "name": "stdout",
     "output_type": "stream",
     "text": [
      "<class 'pandas.core.frame.DataFrame'>\n",
      "RangeIndex: 23 entries, 0 to 22\n",
      "Data columns (total 3 columns):\n",
      " #   Column       Non-Null Count  Dtype  \n",
      "---  ------       --------------  -----  \n",
      " 0   Unnamed: 0   23 non-null     object \n",
      " 1   Temperature  23 non-null     float64\n",
      " 2   Incident     23 non-null     int64  \n",
      "dtypes: float64(1), int64(1), object(1)\n",
      "memory usage: 680.0+ bytes\n"
     ]
    }
   ],
   "source": [
    "data.info()"
   ],
   "metadata": {
    "collapsed": false,
    "pycharm": {
     "name": "#%%\n"
    }
   }
  },
  {
   "cell_type": "code",
   "execution_count": 11,
   "outputs": [
    {
     "data": {
      "text/plain": "       Date  Temperature  Incident\n0  Apr12.81         18.9         0\n1  Nov12.81         21.1         1\n2  Mar22.82         20.6         0\n3  Nov11.82         20.0         0\n4  Apr04.83         19.4         0",
      "text/html": "<div>\n<style scoped>\n    .dataframe tbody tr th:only-of-type {\n        vertical-align: middle;\n    }\n\n    .dataframe tbody tr th {\n        vertical-align: top;\n    }\n\n    .dataframe thead th {\n        text-align: right;\n    }\n</style>\n<table border=\"1\" class=\"dataframe\">\n  <thead>\n    <tr style=\"text-align: right;\">\n      <th></th>\n      <th>Date</th>\n      <th>Temperature</th>\n      <th>Incident</th>\n    </tr>\n  </thead>\n  <tbody>\n    <tr>\n      <th>0</th>\n      <td>Apr12.81</td>\n      <td>18.9</td>\n      <td>0</td>\n    </tr>\n    <tr>\n      <th>1</th>\n      <td>Nov12.81</td>\n      <td>21.1</td>\n      <td>1</td>\n    </tr>\n    <tr>\n      <th>2</th>\n      <td>Mar22.82</td>\n      <td>20.6</td>\n      <td>0</td>\n    </tr>\n    <tr>\n      <th>3</th>\n      <td>Nov11.82</td>\n      <td>20.0</td>\n      <td>0</td>\n    </tr>\n    <tr>\n      <th>4</th>\n      <td>Apr04.83</td>\n      <td>19.4</td>\n      <td>0</td>\n    </tr>\n  </tbody>\n</table>\n</div>"
     },
     "execution_count": 11,
     "metadata": {},
     "output_type": "execute_result"
    }
   ],
   "source": [
    "data.rename(columns={'Unnamed: 0': 'Date'}, inplace=True)\n",
    "data.head()"
   ],
   "metadata": {
    "collapsed": false,
    "pycharm": {
     "name": "#%%\n"
    }
   }
  },
  {
   "cell_type": "code",
   "execution_count": 14,
   "outputs": [
    {
     "data": {
      "text/plain": "    Temperature\n1          21.1\n8          13.9\n9          17.2\n10         21.1\n13         11.7",
      "text/html": "<div>\n<style scoped>\n    .dataframe tbody tr th:only-of-type {\n        vertical-align: middle;\n    }\n\n    .dataframe tbody tr th {\n        vertical-align: top;\n    }\n\n    .dataframe thead th {\n        text-align: right;\n    }\n</style>\n<table border=\"1\" class=\"dataframe\">\n  <thead>\n    <tr style=\"text-align: right;\">\n      <th></th>\n      <th>Temperature</th>\n    </tr>\n  </thead>\n  <tbody>\n    <tr>\n      <th>1</th>\n      <td>21.1</td>\n    </tr>\n    <tr>\n      <th>8</th>\n      <td>13.9</td>\n    </tr>\n    <tr>\n      <th>9</th>\n      <td>17.2</td>\n    </tr>\n    <tr>\n      <th>10</th>\n      <td>21.1</td>\n    </tr>\n    <tr>\n      <th>13</th>\n      <td>11.7</td>\n    </tr>\n  </tbody>\n</table>\n</div>"
     },
     "execution_count": 14,
     "metadata": {},
     "output_type": "execute_result"
    }
   ],
   "source": [
    "challenger_broken = data.loc[data.loc[:, 'Incident'] == 1, :].drop(['Date', 'Incident'], axis=1)\n",
    "challenger_broken.head()"
   ],
   "metadata": {
    "collapsed": false,
    "pycharm": {
     "name": "#%%\n"
    }
   }
  },
  {
   "cell_type": "code",
   "execution_count": 15,
   "outputs": [
    {
     "data": {
      "text/plain": "   Temperature\n0         18.9\n2         20.6\n3         20.0\n4         19.4\n5         22.2",
      "text/html": "<div>\n<style scoped>\n    .dataframe tbody tr th:only-of-type {\n        vertical-align: middle;\n    }\n\n    .dataframe tbody tr th {\n        vertical-align: top;\n    }\n\n    .dataframe thead th {\n        text-align: right;\n    }\n</style>\n<table border=\"1\" class=\"dataframe\">\n  <thead>\n    <tr style=\"text-align: right;\">\n      <th></th>\n      <th>Temperature</th>\n    </tr>\n  </thead>\n  <tbody>\n    <tr>\n      <th>0</th>\n      <td>18.9</td>\n    </tr>\n    <tr>\n      <th>2</th>\n      <td>20.6</td>\n    </tr>\n    <tr>\n      <th>3</th>\n      <td>20.0</td>\n    </tr>\n    <tr>\n      <th>4</th>\n      <td>19.4</td>\n    </tr>\n    <tr>\n      <th>5</th>\n      <td>22.2</td>\n    </tr>\n  </tbody>\n</table>\n</div>"
     },
     "execution_count": 15,
     "metadata": {},
     "output_type": "execute_result"
    }
   ],
   "source": [
    "challenger_not_broken = data.loc[data.loc[:, 'Incident'] != 1, :].drop(['Date', 'Incident'], axis=1)\n",
    "challenger_not_broken.head()"
   ],
   "metadata": {
    "collapsed": false,
    "pycharm": {
     "name": "#%%\n"
    }
   }
  },
  {
   "cell_type": "code",
   "execution_count": 16,
   "outputs": [],
   "source": [
    "def get_bootstrap_samples(data, n_samples):\n",
    "    indices = np.random.randint(0, len(data), (n_samples, len(data)))\n",
    "    samples = data[indices]\n",
    "    return samples"
   ],
   "metadata": {
    "collapsed": false,
    "pycharm": {
     "name": "#%%\n"
    }
   }
  },
  {
   "cell_type": "code",
   "execution_count": 17,
   "outputs": [],
   "source": [
    "def stat_intervals(stat, alpha):\n",
    "    boundaries = np.percentile(stat, [100 * alpha / 2., 100 * (1 - alpha / 2.)])\n",
    "    return boundaries"
   ],
   "metadata": {
    "collapsed": false,
    "pycharm": {
     "name": "#%%\n"
    }
   }
  },
  {
   "cell_type": "code",
   "execution_count": 27,
   "outputs": [],
   "source": [
    "np.random.seed(0)\n",
    "challenger_broken_bs_mean = np.array([np.mean(li) for li in get_bootstrap_samples(challenger_broken['Temperature'].values, 1000)])\n",
    "challenger_not_broken_bs_mean = np.array([np.mean(li) for li in get_bootstrap_samples(challenger_not_broken['Temperature'].values, 1000)])"
   ],
   "metadata": {
    "collapsed": false,
    "pycharm": {
     "name": "#%%\n"
    }
   }
  },
  {
   "cell_type": "code",
   "execution_count": 28,
   "outputs": [
    {
     "data": {
      "text/plain": "array([19.12857143, 18.64285714, 15.22857143, 18.5       , 19.98571429,\n       19.51428571, 16.11428571, 17.68571429, 18.25714286, 15.55714286,\n       16.1       , 18.64285714, 14.52857143, 14.77142857, 20.4       ,\n       18.88571429, 18.01428571, 19.75714286, 18.87142857, 17.6       ,\n       16.65714286, 14.67142857, 20.54285714, 17.67142857, 19.6       ,\n       19.42857143, 19.98571429, 16.51428571, 18.57142857, 22.3       ,\n       16.18571429, 19.12857143, 19.91428571, 18.        , 17.14285714,\n       17.68571429, 19.98571429, 19.04285714, 18.57142857, 19.6       ,\n       15.94285714, 18.97142857, 16.98571429, 20.        , 19.02857143,\n       19.04285714, 16.04285714, 16.34285714, 19.45714286, 20.4       ,\n       15.3       , 17.85714286, 17.14285714, 16.97142857, 17.45714286,\n       20.54285714, 18.57142857, 15.87142857, 14.6       , 21.74285714,\n       18.65714286, 17.21428571, 18.8       , 16.67142857, 19.02857143,\n       16.02857143, 17.61428571, 19.11428571, 14.84285714, 18.25714286,\n       13.41428571, 20.24285714, 15.14285714, 17.78571429, 15.87142857,\n       18.64285714, 16.42857143, 17.05714286, 15.8       , 18.57142857,\n       16.18571429, 18.25714286, 19.28571429, 17.85714286, 19.2       ,\n       18.57142857, 18.15714286, 19.42857143, 16.81428571, 16.91428571,\n       17.54285714, 15.24285714, 17.84285714, 15.77142857, 18.64285714,\n       19.82857143, 16.65714286, 16.02857143, 16.34285714, 17.54285714,\n       19.82857143, 20.47142857, 18.64285714, 15.54285714, 17.7       ,\n       18.97142857, 18.95714286, 19.28571429, 17.05714286, 18.07142857,\n       18.8       , 19.35714286, 17.61428571, 17.54285714, 16.97142857,\n       15.8       , 16.25714286, 16.25714286, 15.87142857, 19.05714286,\n       17.92857143, 15.71428571, 15.78571429, 13.42857143, 15.32857143,\n       18.32857143, 16.65714286, 17.61428571, 18.25714286, 18.62857143,\n       16.48571429, 16.82857143, 15.24285714, 16.08571429, 17.91428571,\n       18.57142857, 18.57142857, 17.62857143, 14.52857143, 20.78571429,\n       19.11428571, 18.48571429, 17.87142857, 14.52857143, 20.        ,\n       17.78571429, 18.48571429, 13.48571429, 17.28571429, 18.07142857,\n       16.08571429, 21.35714286, 20.87142857, 18.58571429, 16.88571429,\n       16.34285714, 17.94285714, 18.95714286, 18.62857143, 18.97142857,\n       16.42857143, 19.58571429, 18.95714286, 17.12857143, 16.65714286,\n       20.        , 14.77142857, 19.98571429, 17.45714286, 15.95714286,\n       16.35714286, 17.05714286, 17.92857143, 18.47142857, 18.01428571,\n       17.52857143, 19.6       , 18.57142857, 16.25714286, 19.91428571,\n       17.22857143, 19.91428571, 18.57142857, 16.67142857, 18.32857143,\n       15.71428571, 19.42857143, 19.2       , 16.2       , 18.55714286,\n       18.4       , 17.21428571, 15.        , 20.95714286, 15.31428571,\n       16.42857143, 14.91428571, 17.51428571, 18.01428571, 17.14285714,\n       19.02857143, 17.22857143, 19.51428571, 16.9       , 19.44285714,\n       17.61428571, 19.18571429, 15.71428571, 17.07142857, 20.55714286,\n       18.1       , 15.41428571, 19.42857143, 16.42857143, 15.08571429,\n       16.32857143, 17.85714286, 19.84285714, 18.64285714, 20.15714286,\n       19.04285714, 17.05714286, 18.01428571, 15.24285714, 15.31428571,\n       17.54285714, 18.32857143, 19.12857143, 18.57142857, 17.52857143,\n       18.24285714, 21.34285714, 16.51428571, 15.        , 16.5       ,\n       19.35714286, 17.85714286, 15.88571429, 17.21428571, 16.35714286,\n       18.25714286, 19.04285714, 19.11428571, 18.65714286, 20.        ,\n       15.7       , 19.75714286, 18.1       , 20.38571429, 19.35714286,\n       16.58571429, 15.8       , 19.75714286, 15.01428571, 18.47142857,\n       20.54285714, 17.14285714, 18.97142857, 18.01428571, 16.67142857,\n       16.42857143, 18.17142857, 18.08571429, 20.71428571, 16.65714286,\n       17.61428571, 15.87142857, 17.54285714, 18.08571429, 20.31428571,\n       17.45714286, 16.64285714, 17.05714286, 18.24285714, 18.95714286,\n       15.68571429, 18.25714286, 19.44285714, 14.92857143, 17.44285714,\n       15.62857143, 17.68571429, 16.01428571, 18.41428571, 16.82857143,\n       17.3       , 18.48571429, 16.25714286, 15.87142857, 17.54285714,\n       16.34285714, 17.85714286, 18.88571429, 18.4       , 18.        ,\n       18.8       , 20.87142857, 18.32857143, 18.95714286, 15.48571429,\n       17.85714286, 15.94285714, 20.32857143, 17.91428571, 17.92857143,\n       19.42857143, 15.08571429, 18.8       , 16.02857143, 17.21428571,\n       19.2       , 18.15714286, 17.21428571, 17.78571429, 16.65714286,\n       18.88571429, 18.57142857, 18.55714286, 17.61428571, 18.48571429,\n       16.25714286, 17.12857143, 15.        , 15.78571429, 18.32857143,\n       15.17142857, 19.35714286, 19.27142857, 17.45714286, 17.68571429,\n       18.55714286, 17.52857143, 18.1       , 18.01428571, 16.67142857,\n       19.98571429, 19.35714286, 19.12857143, 17.28571429, 18.24285714,\n       17.54285714, 17.61428571, 16.88571429, 17.44285714, 16.18571429,\n       15.8       , 15.81428571, 18.01428571, 14.68571429, 17.22857143,\n       19.04285714, 18.01428571, 20.94285714, 17.61428571, 17.37142857,\n       17.68571429, 16.51428571, 18.01428571, 18.95714286, 16.51428571,\n       17.84285714, 16.25714286, 16.5       , 20.55714286, 18.01428571,\n       19.04285714, 14.91428571, 22.7       , 17.05714286, 20.95714286,\n       20.38571429, 16.64285714, 16.64285714, 16.04285714, 20.        ,\n       16.97142857, 19.12857143, 17.61428571, 16.01428571, 17.7       ,\n       18.08571429, 17.12857143, 16.42857143, 16.34285714, 16.67142857,\n       20.94285714, 19.28571429, 19.28571429, 15.24285714, 17.61428571,\n       19.98571429, 20.32857143, 16.18571429, 17.28571429, 19.35714286,\n       16.98571429, 17.68571429, 18.24285714, 17.61428571, 16.75714286,\n       18.55714286, 17.05714286, 19.2       , 16.04285714, 16.97142857,\n       18.18571429, 17.28571429, 21.74285714, 16.72857143, 18.57142857,\n       14.85714286, 16.75714286, 19.98571429, 15.31428571, 18.64285714,\n       19.98571429, 17.84285714, 19.04285714, 13.57142857, 15.54285714,\n       17.7       , 16.88571429, 17.92857143, 20.24285714, 15.24285714,\n       18.07142857, 15.78571429, 18.08571429, 15.31428571, 15.08571429,\n       19.91428571, 17.37142857, 20.78571429, 19.42857143, 17.14285714,\n       17.14285714, 16.27142857, 16.88571429, 18.97142857, 19.98571429,\n       15.77142857, 15.32857143, 16.27142857, 17.61428571, 18.58571429,\n       17.77142857, 16.65714286, 16.58571429, 18.41428571, 13.48571429,\n       18.        , 17.45714286, 17.05714286, 16.71428571, 15.15714286,\n       17.21428571, 17.04285714, 19.82857143, 16.48571429, 17.52857143,\n       16.67142857, 19.35714286, 20.        , 17.2       , 18.57142857,\n       17.3       , 18.08571429, 14.84285714, 16.75714286, 19.04285714,\n       17.38571429, 16.02857143, 16.24285714, 18.97142857, 16.25714286,\n       18.58571429, 15.47142857, 17.28571429, 16.48571429, 18.55714286,\n       17.61428571, 19.2       , 16.82857143, 17.55714286, 20.        ,\n       20.94285714, 17.05714286, 18.47142857, 18.48571429, 17.21428571,\n       17.14285714, 17.28571429, 17.12857143, 18.01428571, 19.04285714,\n       15.68571429, 15.4       , 17.47142857, 18.64285714, 19.75714286,\n       16.9       , 16.27142857, 17.38571429, 20.        , 14.52857143,\n       18.1       , 16.65714286, 17.3       , 18.32857143, 20.94285714,\n       20.24285714, 16.51428571, 17.45714286, 15.31428571, 16.58571429,\n       15.87142857, 17.04285714, 17.61428571, 18.55714286, 17.61428571,\n       13.97142857, 20.94285714, 14.91428571, 18.25714286, 18.62857143,\n       18.47142857, 16.5       , 17.11428571, 16.18571429, 16.97142857,\n       20.32857143, 17.22857143, 18.01428571, 16.27142857, 18.57142857,\n       19.2       , 18.95714286, 20.55714286, 17.04285714, 20.78571429,\n       15.55714286, 19.28571429, 19.44285714, 17.28571429, 19.91428571,\n       17.15714286, 20.31428571, 18.01428571, 17.52857143, 18.55714286,\n       16.1       , 16.81428571, 17.6       , 21.74285714, 18.81428571,\n       20.07142857, 15.4       , 16.58571429, 19.2       , 17.2       ,\n       17.52857143, 19.02857143, 19.35714286, 18.        , 20.31428571,\n       18.17142857, 17.52857143, 17.85714286, 20.94285714, 14.91428571,\n       19.04285714, 14.84285714, 16.27142857, 18.07142857, 15.95714286,\n       17.28571429, 14.91428571, 19.21428571, 14.61428571, 18.81428571,\n       15.32857143, 18.01428571, 15.62857143, 15.94285714, 18.        ,\n       15.62857143, 16.18571429, 19.82857143, 19.04285714, 19.42857143,\n       19.02857143, 18.97142857, 15.47142857, 18.1       , 17.54285714,\n       17.78571429, 19.44285714, 19.12857143, 15.3       , 17.62857143,\n       18.01428571, 15.15714286, 15.95714286, 18.81428571, 16.64285714,\n       14.52857143, 16.42857143, 13.95714286, 18.87142857, 16.51428571,\n       15.55714286, 18.08571429, 17.37142857, 18.41428571, 17.05714286,\n       18.08571429, 18.41428571, 17.85714286, 16.25714286, 18.01428571,\n       20.38571429, 19.98571429, 18.8       , 16.65714286, 17.85714286,\n       16.88571429, 18.8       , 19.84285714, 18.08571429, 16.34285714,\n       17.51428571, 18.64285714, 14.07142857, 17.85714286, 20.4       ,\n       20.31428571, 17.52857143, 17.05714286, 14.91428571, 17.3       ,\n       15.24285714, 19.02857143, 16.67142857, 16.74285714, 16.34285714,\n       18.88571429, 18.4       , 17.44285714, 18.81428571, 18.57142857,\n       16.97142857, 19.84285714, 15.85714286, 20.55714286, 19.44285714,\n       18.95714286, 17.84285714, 17.04285714, 18.88571429, 16.57142857,\n       19.52857143, 15.85714286, 15.24285714, 14.98571429, 14.84285714,\n       17.68571429, 16.72857143, 13.98571429, 16.82857143, 19.91428571,\n       16.5       , 16.74285714, 18.17142857, 15.95714286, 19.2       ,\n       19.44285714, 19.35714286, 19.61428571, 18.22857143, 18.57142857,\n       21.27142857, 18.01428571, 18.08571429, 19.6       , 19.05714286,\n       19.12857143, 20.15714286, 15.71428571, 20.31428571, 18.41428571,\n       15.15714286, 17.45714286, 15.55714286, 16.27142857, 18.95714286,\n       16.34285714, 17.44285714, 18.57142857, 16.01428571, 17.92857143,\n       19.6       , 16.25714286, 18.24285714, 16.51428571, 15.61428571,\n       16.01428571, 16.65714286, 19.12857143, 20.31428571, 15.87142857,\n       17.85714286, 18.55714286, 17.45714286, 19.75714286, 14.92857143,\n       19.35714286, 18.8       , 15.85714286, 18.62857143, 13.74285714,\n       19.51428571, 15.08571429, 17.21428571, 17.44285714, 18.88571429,\n       17.61428571, 18.41428571, 16.18571429, 18.34285714, 18.01428571,\n       18.32857143, 16.5       , 20.78571429, 17.61428571, 17.47142857,\n       16.74285714, 16.82857143, 19.44285714, 17.22857143, 16.82857143,\n       19.37142857, 19.58571429, 13.41428571, 18.        , 17.22857143,\n       16.5       , 15.72857143, 19.44285714, 15.87142857, 15.17142857,\n       14.61428571, 16.12857143, 17.52857143, 18.24285714, 16.51428571,\n       16.18571429, 17.92857143, 19.35714286, 15.38571429, 18.62857143,\n       19.02857143, 16.65714286, 18.08571429, 19.35714286, 17.21428571,\n       17.12857143, 18.95714286, 20.31428571, 18.72857143, 15.87142857,\n       15.01428571, 18.55714286, 17.21428571, 13.81428571, 16.34285714,\n       17.6       , 19.75714286, 19.44285714, 17.52857143, 17.45714286,\n       19.04285714, 13.88571429, 17.87142857, 15.92857143, 17.85714286,\n       19.91428571, 20.38571429, 17.45714286, 17.3       , 16.75714286,\n       17.45714286, 19.42857143, 18.5       , 17.12857143, 18.88571429,\n       17.3       , 16.98571429, 18.87142857, 15.4       , 19.2       ,\n       18.58571429, 17.68571429, 17.28571429, 19.58571429, 18.48571429,\n       19.42857143, 18.01428571, 17.38571429, 18.08571429, 19.92857143,\n       20.31428571, 18.95714286, 17.92857143, 15.94285714, 15.12857143,\n       17.21428571, 18.97142857, 18.9       , 19.6       , 17.61428571,\n       16.98571429, 16.34285714, 17.38571429, 16.74285714, 15.57142857,\n       16.95714286, 18.95714286, 16.5       , 17.21428571, 16.67142857,\n       20.        , 17.04285714, 17.22857143, 17.61428571, 20.31428571,\n       19.82857143, 16.18571429, 14.92857143, 17.85714286, 18.08571429,\n       20.15714286, 17.78571429, 15.55714286, 15.08571429, 16.25714286,\n       20.38571429, 18.8       , 17.85714286, 16.2       , 17.28571429,\n       19.91428571, 15.47142857, 18.48571429, 17.22857143, 19.02857143,\n       16.27142857, 17.54285714, 18.97142857, 17.61428571, 19.37142857,\n       15.85714286, 18.95714286, 19.42857143, 17.21428571, 18.01428571,\n       13.88571429, 19.51428571, 18.08571429, 18.57142857, 19.35714286,\n       18.22857143, 16.81428571, 14.6       , 16.65714286, 18.        ,\n       15.85714286, 19.98571429, 16.04285714, 17.22857143, 17.21428571,\n       18.41428571, 19.2       , 17.51428571, 18.25714286, 19.12857143,\n       19.84285714, 18.48571429, 19.42857143, 17.05714286, 18.25714286,\n       15.8       , 15.55714286, 14.82857143, 16.72857143, 16.81428571,\n       16.9       , 17.04285714, 18.57142857, 17.62857143, 18.81428571,\n       16.65714286, 16.51428571, 17.12857143, 18.32857143, 18.32857143,\n       15.71428571, 15.8       , 16.82857143, 18.25714286, 20.64285714,\n       18.57142857, 17.14285714, 21.34285714, 21.18571429, 17.7       ,\n       19.02857143, 16.58571429, 16.58571429, 15.15714286, 17.6       ,\n       18.08571429, 17.54285714, 20.71428571, 18.17142857, 15.7       ,\n       16.25714286, 18.25714286, 18.08571429, 18.01428571, 18.55714286,\n       15.01428571, 16.24285714, 18.4       , 17.52857143, 18.88571429,\n       16.48571429, 19.35714286, 17.15714286, 16.5       , 18.17142857,\n       17.2       , 18.81428571, 15.08571429, 17.61428571, 17.05714286,\n       15.15714286, 15.87142857, 17.05714286, 18.64285714, 19.28571429,\n       18.48571429, 18.64285714, 19.35714286, 17.61428571, 17.61428571,\n       18.97142857, 18.57142857, 18.64285714, 18.25714286, 15.32857143,\n       15.55714286, 17.61428571, 17.77142857, 18.25714286, 16.42857143,\n       14.05714286, 15.8       , 17.04285714, 16.9       , 13.81428571,\n       18.57142857, 17.45714286, 14.52857143, 16.51428571, 17.04285714,\n       17.94285714, 18.08571429, 14.7       , 14.91428571, 18.81428571,\n       19.91428571, 18.81428571, 17.3       , 20.31428571, 16.74285714,\n       19.75714286, 17.3       , 16.9       , 15.8       , 17.05714286,\n       19.6       , 18.57142857, 20.71428571, 15.55714286, 18.5       ,\n       17.21428571, 20.94285714, 19.6       , 16.65714286, 18.32857143])"
     },
     "execution_count": 28,
     "metadata": {},
     "output_type": "execute_result"
    }
   ],
   "source": [
    "challenger_broken_bs_mean"
   ],
   "metadata": {
    "collapsed": false,
    "pycharm": {
     "name": "#%%\n"
    }
   }
  },
  {
   "cell_type": "code",
   "execution_count": 29,
   "outputs": [
    {
     "data": {
      "text/plain": "array([-8.06457589, -1.45040179])"
     },
     "execution_count": 29,
     "metadata": {},
     "output_type": "execute_result"
    }
   ],
   "source": [
    "stat_intervals(challenger_broken_bs_mean - challenger_not_broken_bs_mean, 0.05)"
   ],
   "metadata": {
    "collapsed": false,
    "pycharm": {
     "name": "#%%\n"
    }
   }
  },
  {
   "cell_type": "markdown",
   "source": [
    "На данных предыдущей задачи проверьте гипотезу об одинаковой средней температуре воздуха в дни, когда уплотнительный кольца повреждались, и дни, когда повреждений не было. Используйте перестановочный критерий и двустороннюю альтернативу. Чему равен достигаемый уровень значимости? Округлите до четырёх знаков после десятичной точки.\n",
    "\n",
    "Чтобы получить такое же значение, как мы:\n",
    "\n",
    "установите random seed = 0; возьмите 10000 перестановок."
   ],
   "metadata": {
    "collapsed": false,
    "pycharm": {
     "name": "#%% md\n"
    }
   }
  },
  {
   "cell_type": "code",
   "execution_count": 30,
   "outputs": [],
   "source": [
    "def permutation_t_stat_ind(sample1, sample2):\n",
    "    return np.mean(sample1) - np.mean(sample2)"
   ],
   "metadata": {
    "collapsed": false,
    "pycharm": {
     "name": "#%%\n"
    }
   }
  },
  {
   "cell_type": "code",
   "execution_count": 40,
   "outputs": [],
   "source": [
    "def get_random_combinations(n1, n2, max_combinations):\n",
    "    index = list(range(n1 + n2))\n",
    "    indices = {tuple(index)}\n",
    "    for i in range(max_combinations - 1):\n",
    "        np.random.shuffle(index)\n",
    "        indices.add(tuple(index))\n",
    "    return [(index[:n1], index[n1:]) for index in indices]"
   ],
   "metadata": {
    "collapsed": false,
    "pycharm": {
     "name": "#%%\n"
    }
   }
  },
  {
   "cell_type": "code",
   "execution_count": 35,
   "outputs": [],
   "source": [
    "def permutation_zero_dist_ind(sample1, sample2, max_combinations=None):\n",
    "    joined_sample = np.hstack((sample1, sample2))\n",
    "    n1 = len(sample1)\n",
    "    n = len(joined_sample)\n",
    "\n",
    "    if max_combinations:\n",
    "        indices = get_random_combinations(n1, len(sample2), max_combinations)\n",
    "    else:\n",
    "        indices = [(list(index), filter(lambda i: i not in index, range(n))) \\\n",
    "                    for index in itertools.combinations(range(n), n1)]\n",
    "\n",
    "    distr = [joined_sample[list(i[0])].mean() - joined_sample[list(i[1])].mean() \\\n",
    "             for i in indices]\n",
    "    return distr"
   ],
   "metadata": {
    "collapsed": false,
    "pycharm": {
     "name": "#%%\n"
    }
   }
  },
  {
   "cell_type": "code",
   "execution_count": 36,
   "outputs": [],
   "source": [
    "def permutation_test(sample, mean, max_permutations = None, alternative='two-sided'):\n",
    "    if alternative not in ('two-sided', 'less', 'greater'):\n",
    "        raise ValueError(\"alternative not recognized\\n\"\n",
    "                         \"should be 'two-sided', 'less' or 'greater'\")\n",
    "\n",
    "    t_stat = permutation_t_stat_ind(sample, mean)\n",
    "\n",
    "    zero_distr = permutation_zero_dist_ind(sample, mean, max_permutations)\n",
    "\n",
    "    if alternative == 'two-sided':\n",
    "        return sum([1. if abs(x) >= abs(t_stat) else 0. for x in zero_distr]) / len(zero_distr)\n",
    "\n",
    "    if alternative == 'less':\n",
    "        return sum([1. if x <= t_stat else 0. for x in zero_distr]) / len(zero_distr)\n",
    "\n",
    "    if alternative == 'greater':\n",
    "        return sum([1. if x >= t_stat else 0. for x in zero_distr]) / len(zero_distr)"
   ],
   "metadata": {
    "collapsed": false,
    "pycharm": {
     "name": "#%%\n"
    }
   }
  },
  {
   "cell_type": "code",
   "execution_count": 41,
   "outputs": [
    {
     "data": {
      "text/plain": "0.0057"
     },
     "execution_count": 41,
     "metadata": {},
     "output_type": "execute_result"
    }
   ],
   "source": [
    "np.random.seed(0)\n",
    "permutation_test(challenger_broken['Temperature'].values,\n",
    "                                         challenger_not_broken['Temperature'].values, max_permutations=10000)"
   ],
   "metadata": {
    "collapsed": false,
    "pycharm": {
     "name": "#%%\n"
    }
   }
  }
 ],
 "metadata": {
  "kernelspec": {
   "display_name": "Python 3",
   "language": "python",
   "name": "python3"
  },
  "language_info": {
   "codemirror_mode": {
    "name": "ipython",
    "version": 2
   },
   "file_extension": ".py",
   "mimetype": "text/x-python",
   "name": "python",
   "nbconvert_exporter": "python",
   "pygments_lexer": "ipython2",
   "version": "2.7.6"
  }
 },
 "nbformat": 4,
 "nbformat_minor": 0
}